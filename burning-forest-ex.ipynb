{
 "cells": [
  {
   "cell_type": "markdown",
   "metadata": {},
   "source": [
    "# Burning Forest"
   ]
  },
  {
   "cell_type": "markdown",
   "metadata": {},
   "source": [
    "## Installing Dependencies"
   ]
  },
  {
   "cell_type": "code",
   "execution_count": 2,
   "metadata": {},
   "outputs": [
    {
     "name": "stdout",
     "output_type": "stream",
     "text": [
      "Collecting matplotlib\n",
      "  Downloading matplotlib-3.7.5-cp38-cp38-manylinux_2_12_x86_64.manylinux2010_x86_64.whl (9.2 MB)\n",
      "\u001b[K     |████████████████████████████████| 9.2 MB 3.4 MB/s eta 0:00:01\n",
      "\u001b[?25hCollecting fonttools>=4.22.0\n",
      "  Downloading fonttools-4.51.0-cp38-cp38-manylinux_2_17_x86_64.manylinux2014_x86_64.whl (4.7 MB)\n",
      "\u001b[K     |████████████████████████████████| 4.7 MB 4.1 MB/s eta 0:00:01\n",
      "\u001b[?25hCollecting pyparsing>=2.3.1\n",
      "  Downloading pyparsing-3.1.2-py3-none-any.whl (103 kB)\n",
      "\u001b[K     |████████████████████████████████| 103 kB 4.8 MB/s eta 0:00:01\n",
      "\u001b[?25hRequirement already satisfied: numpy<2,>=1.20 in /home/izcy/.local/lib/python3.8/site-packages (from matplotlib) (1.24.4)\n",
      "Collecting contourpy>=1.0.1\n",
      "  Downloading contourpy-1.1.1-cp38-cp38-manylinux_2_17_x86_64.manylinux2014_x86_64.whl (301 kB)\n",
      "\u001b[K     |████████████████████████████████| 301 kB 20.8 MB/s eta 0:00:01\n",
      "\u001b[?25hCollecting cycler>=0.10\n",
      "  Downloading cycler-0.12.1-py3-none-any.whl (8.3 kB)\n",
      "Requirement already satisfied: pillow>=6.2.0 in /usr/lib/python3/dist-packages (from matplotlib) (7.0.0)\n",
      "Collecting importlib-resources>=3.2.0; python_version < \"3.10\"\n",
      "  Downloading importlib_resources-6.4.0-py3-none-any.whl (38 kB)\n",
      "Collecting kiwisolver>=1.0.1\n",
      "  Downloading kiwisolver-1.4.5-cp38-cp38-manylinux_2_5_x86_64.manylinux1_x86_64.whl (1.2 MB)\n",
      "\u001b[K     |████████████████████████████████| 1.2 MB 18.1 MB/s eta 0:00:01\n",
      "\u001b[?25hRequirement already satisfied: python-dateutil>=2.7 in /home/izcy/.local/lib/python3.8/site-packages (from matplotlib) (2.9.0.post0)\n",
      "Requirement already satisfied: packaging>=20.0 in /home/izcy/.local/lib/python3.8/site-packages (from matplotlib) (24.0)\n",
      "Requirement already satisfied: zipp>=3.1.0; python_version < \"3.10\" in /home/izcy/.local/lib/python3.8/site-packages (from importlib-resources>=3.2.0; python_version < \"3.10\"->matplotlib) (3.18.1)\n",
      "Requirement already satisfied: six>=1.5 in /usr/lib/python3/dist-packages (from python-dateutil>=2.7->matplotlib) (1.14.0)\n",
      "Installing collected packages: fonttools, pyparsing, contourpy, cycler, importlib-resources, kiwisolver, matplotlib\n",
      "Successfully installed contourpy-1.1.1 cycler-0.12.1 fonttools-4.51.0 importlib-resources-6.4.0 kiwisolver-1.4.5 matplotlib-3.7.5 pyparsing-3.1.2\n"
     ]
    }
   ],
   "source": [
    "!pip install matplotlib"
   ]
  },
  {
   "cell_type": "markdown",
   "metadata": {},
   "source": [
    "## Copying Template"
   ]
  },
  {
   "cell_type": "code",
   "execution_count": 4,
   "metadata": {},
   "outputs": [],
   "source": [
    "import numpy as np\n",
    "import matplotlib\n",
    "import matplotlib.pyplot as plt\n",
    "import matplotlib.image as mpimg\n",
    "import matplotlib.animation as animation\n",
    "from IPython.display import HTML  # for embedded matplotlib animation\n",
    "from math import *\n",
    "from random import *\n",
    "\n",
    "matplotlib.rc('animation', html='html5')"
   ]
  },
  {
   "cell_type": "markdown",
   "metadata": {},
   "source": [
    "## Constants"
   ]
  },
  {
   "cell_type": "code",
   "execution_count": 5,
   "metadata": {},
   "outputs": [],
   "source": [
    "global EMPTY, TREE, BURNING\n",
    "EMPTY = 0\n",
    "TREE = 1\n",
    "BURNING = 2"
   ]
  },
  {
   "cell_type": "markdown",
   "metadata": {},
   "source": [
    "## Make the Forest"
   ]
  },
  {
   "cell_type": "code",
   "execution_count": 6,
   "metadata": {},
   "outputs": [],
   "source": [
    "def initForest(n, probTree, probBurning):\n",
    "    forest = np.zeros((n, n))\n",
    "    for i in range(0, n):\n",
    "        for j in range(0, n):\n",
    "            if (random() < probTree):\n",
    "                if (random() < probBurning):\n",
    "                    forest[i, j] = BURNING\n",
    "                else:\n",
    "                    forest[i, j] = TREE\n",
    "            else:\n",
    "                forest[i, j] = EMPTY\n",
    "    return forest"
   ]
  },
  {
   "cell_type": "markdown",
   "metadata": {},
   "source": [
    "## Burning the Forest"
   ]
  },
  {
   "cell_type": "code",
   "execution_count": 7,
   "metadata": {},
   "outputs": [],
   "source": [
    "def spread(site, N, E, S, W, probLightning, probImmune):\n",
    "    if (site == EMPTY):\n",
    "        newSite = EMPTY\n",
    "    else:\n",
    "        if (site == BURNING):\n",
    "            newSite = EMPTY\n",
    "        else:\n",
    "            if (N == BURNING or E == BURNING or S == BURNING or W == BURNING):\n",
    "                if (random() < probImmune):\n",
    "                    newSite = TREE\n",
    "                else:\n",
    "                    newSite = BURNING\n",
    "            else:\n",
    "                if (random() < probLightning * (1 - probImmune)):\n",
    "                    newSite = BURNING\n",
    "                else:\n",
    "                    newSite = TREE\n",
    "    return newSite"
   ]
  },
  {
   "cell_type": "markdown",
   "metadata": {},
   "source": [
    "## Extending the Grid"
   ]
  },
  {
   "cell_type": "code",
   "execution_count": 8,
   "metadata": {},
   "outputs": [],
   "source": [
    "def reflectingLat(lat):\n",
    "    latNS = np.row_stack((lat[0], lat, lat[-1]))\n",
    "    return np.column_stack((latNS[:,0], latNS, latNS[:,-1]))"
   ]
  },
  {
   "cell_type": "markdown",
   "metadata": {},
   "source": [
    "## Update Grid"
   ]
  },
  {
   "cell_type": "code",
   "execution_count": 9,
   "metadata": {},
   "outputs": [],
   "source": [
    "def applyExtended(latExt, probLightning, probImmune):\n",
    "    n = latExt.shape[0] - 2\n",
    "    newLat = np.zeros((n, n))\n",
    "\n",
    "    for i in range(1, n + 1):\n",
    "        for j in range(1, n + 1):\n",
    "            site = latExt[i, j]\n",
    "            N = latExt[i - 1, j]\n",
    "            E = latExt[i, j + 1]\n",
    "            S = latExt[i + 1, j]\n",
    "            W = latExt[i, j - 1]\n",
    "            newLat[i - 1, j - 1] = spread(site, N, E, S, W, probLightning, probImmune)\n",
    "    return newLat"
   ]
  },
  {
   "cell_type": "markdown",
   "metadata": {},
   "source": [
    "## Fire the Grid"
   ]
  },
  {
   "cell_type": "code",
   "execution_count": 10,
   "metadata": {},
   "outputs": [],
   "source": [
    "def fire(n, probTree, probBurning, probLightning, probImmune, t):\n",
    "    forest  = initForest( n, probTree, probBurning )\n",
    "\n",
    "    # Perform simulation\n",
    "    grids = np.zeros((t + 1, n, n))\n",
    "    grids[0, :, :] = forest\n",
    "    for i in range(1, t + 1):\n",
    "        forestExtended = reflectingLat(forest)\n",
    "        forest = applyExtended(forestExtended, probLightning, probImmune)\n",
    "        grids[i, :, :] = forest\n",
    "    return grids"
   ]
  },
  {
   "cell_type": "markdown",
   "metadata": {},
   "source": [
    "## Animation Setup"
   ]
  },
  {
   "cell_type": "code",
   "execution_count": 12,
   "metadata": {},
   "outputs": [],
   "source": [
    "Writer = animation.writers['ffmpeg']\n",
    "writer = Writer(fps=15, metadata=dict(artist='Me'), bitrate=1800)"
   ]
  },
  {
   "cell_type": "markdown",
   "metadata": {},
   "source": [
    "## Colouring"
   ]
  },
  {
   "cell_type": "code",
   "execution_count": 13,
   "metadata": {},
   "outputs": [],
   "source": [
    "def makeColorGrid(grid):\n",
    "    n = grid.shape[0]\n",
    "    colorGrid = np.zeros((n, n, 3))\n",
    "    colorGrid[:, :, 0] = 1\n",
    "    colorGrid[:, :, 1] = 1\n",
    "    for i in range(0, n):\n",
    "        for j in range(0, n):\n",
    "            if (grid[i, j] == TREE):\n",
    "                colorGrid[i, j, 0] = 0.1\n",
    "                colorGrid[i, j, 1] = 0.75\n",
    "                colorGrid[i, j, 2] = 0.02\n",
    "            if (grid[i, j] == BURNING):\n",
    "                colorGrid[i, j, 0] = 0.6\n",
    "                colorGrid[i, j, 1] = 0.2\n",
    "                colorGrid[i, j, 2] = 0.1\n",
    "    return colorGrid"
   ]
  },
  {
   "cell_type": "markdown",
   "metadata": {},
   "source": [
    "## Simulation"
   ]
  },
  {
   "cell_type": "code",
   "execution_count": null,
   "metadata": {},
   "outputs": [],
   "source": [
    "seed(1)\n",
    "grids = fire(15, 0.8, 0.001, 0.001, 0.3, 20)"
   ]
  },
  {
   "cell_type": "markdown",
   "metadata": {},
   "source": [
    "## Plot View"
   ]
  },
  {
   "cell_type": "code",
   "execution_count": 17,
   "metadata": {},
   "outputs": [
    {
     "data": {
      "image/png": "[encoded data removed]",
      "text/plain": [
       "<Figure size 640x480 with 1 Axes>"
      ]
     },
     "metadata": {},
     "output_type": "display_data"
    },
    {
     "data": {
      "text/html": [
       "<video width=\"640\" height=\"480\" controls autoplay loop>\n",
       "  <source type=\"video/mp4\" src=\"data:video/mp4;base64,AAAAHGZ0eXBNNFYgAAACAGlzb21pc28yYXZjMQAAAAhmcmVlAAAYSG1kYXQAAAKuBgX//6rcRem9\n",
       "5tlIt5Ys2CDZI+7veDI2NCAtIGNvcmUgMTU1IHIyOTE3IDBhODRkOTggLSBILjI2NC9NUEVHLTQg\n",
       "QVZDIGNvZGVjIC0gQ29weWxlZnQgMjAwMy0yMDE4IC0gaHR0cDovL3d3dy52aWRlb2xhbi5vcmcv\n",
       "eDI2NC5odG1sIC0gb3B0aW9uczogY2FiYWM9MSByZWY9MyBkZWJsb2NrPTE6MDowIGFuYWx5c2U9\n",
       "MHgzOjB4MTEzIG1lPWhleCBzdWJtZT03IHBzeT0xIHBzeV9yZD0xLjAwOjAuMDAgbWl4ZWRfcmVm\n",
       "PTEgbWVfcmFuZ2U9MTYgY2hyb21hX21lPTEgdHJlbGxpcz0xIDh4OGRjdD0xIGNxbT0wIGRlYWR6\n",
       "b25lPTIxLDExIGZhc3RfcHNraXA9MSBjaHJvbWFfcXBfb2Zmc2V0PS0yIHRocmVhZHM9NiBsb29r\n",
       "YWhlYWRfdGhyZWFkcz0xIHNsaWNlZF90aHJlYWRzPTAgbnI9MCBkZWNpbWF0ZT0xIGludGVybGFj\n",
       "ZWQ9MCBibHVyYXlfY29tcGF0PTAgY29uc3RyYWluZWRfaW50cmE9MCBiZnJhbWVzPTMgYl9weXJh\n",
       "bWlkPTIgYl9hZGFwdD0xIGJfYmlhcz0wIGRpcmVjdD0xIHdlaWdodGI9MSBvcGVuX2dvcD0wIHdl\n",
       "aWdodHA9MiBrZXlpbnQ9MjUwIGtleWludF9taW49MjAgc2NlbmVjdXQ9NDAgaW50cmFfcmVmcmVz\n",
       "aD0wIHJjX2xvb2thaGVhZD00MCByYz1jcmYgbWJ0cmVlPTEgY3JmPTIzLjAgcWNvbXA9MC42MCBx\n",
       "cG1pbj0wIHFwbWF4PTY5IHFwc3RlcD00IGlwX3JhdGlvPTEuNDAgYXE9MToxLjAwAIAAAA81ZYiE\n",
       "ADv//vdOvwKbRZdqA5JXCvbKpCZZuVJrAfKmAAADAAADAAADAJCEce5rlck9ZoAAAC9gCR1H+CEf\n",
       "eQE0MCpgQlu/Jmbd/qgRJuKxTLIjc6KhHPUgVXvU9/398EIjzJWQuZlEfLnXnrMGXqe9EDl4C5KO\n",
       "zLoYkMsr+jCY+6Xaq9FABCPul8mSNp/oA/o5Qeg+KOu1ZzrlPu9hY4NiyXAUSoh01s6ufReC0Z0s\n",
       "d+K1jivuF4BzCbdlXsc2VT96mNLKMqPLndHs75Gk9qdsyynB2TXxVP7kWOmrlqPT878WIqueT4h+\n",
       "eNKptekKa76Kj0zbC5dzXHwaLRzma7Gmq5phw49CQKPhuFY/xlprFllv9EihVWkSPIQ8w2xQz1V5\n",
       "UqXgBLzOyAEnJq9hioAWNjhx5m6wHIGt9xSdCxbNhoC2j+Y8KziGEtpYTE9Bi3Ysmn1lu+3qX5Uq\n",
       "D4JSw2/4XehW7TUq2D8sggooBdBKn+DgbGW11GHD1BlAI+Gl+oRsy47/GeF16gWxGlhoKmf9pOKq\n",
       "MNExaG9IFWprf1jsSj/WuCHYPymPeRu6mGP97Ls505c7AV73BS3//soD3mhOY2JqCdyf/7Fi1LUx\n",
       "gp2qfvX7o/HkvUCBXN+GBfN73+GoRAgi48jLi46PlSL/gkG/A67YAV7+UFtakIZvHJxNOMsm9i1v\n",
       "W1JP+PMNy2w7Eqn/1SrpiUdy/lY+njrjo1QEYWu0TUgEHE/CrdA2ZlA5mO5pciKrdjZzrnmpt/Zf\n",
       "65hTQc5b7AOXbKIAo7ylavrIA16MH1XBkh6R3ohSxWJe4l6h+NYw4XY6P5Ekfke3B4594Akj0b9U\n",
       "22iEcBJbPrh4Ry0/YxdvJWOBfPtnl8zbksrPjEXYWhtE2BGUgFcpIk4bInB42Ah17LDK5TqdNxQU\n",
       "SNPNXbX/uLl37nFI6hgi03HmjpEKZPujGWBPpSoLFPzbw+YGMM+R1XluOM5b1+iuExJebHfoABQD\n",
       "DCsQzwHtE3Zulazbj/EDbQnKJhYQbQRwQV92Dj1ATIEczPvP/RMjvcHQrwAnDDLkiqKAQThjA1+J\n",
       "99s4+6TP2CrxDa4kCQYgZzEBW4il6xhDsOVSzQwJcO2rh/Y/Ph5rvpkL/MzTvVz9wkmAs5ASgbya\n",
       "gCDtsQnGbDhHarf+LIkMUOLZH4LIxIL3PVQ/sz0Nd+7qeG/8vJR/9Nn0hTkfmR+5u1d0xDRsGasc\n",
       "7yF+AkeaRFY3x30+aYT4pCNLH6Mf4J2tagla5dSOgO+p2ifdU/iZ0wKTS7etmo7S6N9IeMGO7X/n\n",
       "Ons09MwyrTVqM7qojqe7Z56M9WXuNqoEmP8Lp2yRZ/5o0diGirCB8NZVORddOwB428p6Z3JF7SrN\n",
       "2SI+maZjaYpu5aK6PJgH7XPRRwaWclPy1ZFbvC5x4d+p60pPYHRlRMztANGHlGXmXPl1d8jcSN6R\n",
       "KfXw3jNaIDcn/HvdCRv1hRkuS30TUg4eAFDFGZu863YeMfq0GqpEDP6W93hwG6KMGPTG+fusEpif\n",
       "ViuCLLLQTu0ux3LirlY9AHjflwErmRhzU9ZTHmJNoi8wulzXb0DHYSHvYbdqD3fuv4t0kVPaBF57\n",
       "qR/5QJT7Oa8J4+icus2ngkY+zW16TzhJgP9Evq0X/ga73cxFmezRArZnLbVqNa8DkhUeZwYLfST8\n",
       "Bs0KKLoqQ8ThHnKdB/FqCP+9UMaUgAR3Ln96T2f/1Pxb9n65Y/YQeWc183q/f9515+afr/h/rxzy\n",
       "6Etiu3SYkEraChGsx7ERIgo32cQXUGOG3PCLOqoP6jTx9T5oJSdT5ajWTgbmBzOnfeVwtRcgi6SM\n",
       "/UzcQtqEeohC9eMxNRdWOkdTbPa2FKdOpsiIRvRc1+ba3OrfCTZIzTwT5Y9R9fVxLvVs14fYpU1b\n",
       "PhzCYMWnkm0yNG+1TLiIFODbKZ+EfW6tX9qAJa0XEaTau0tWHaBrD88mNLcYuVP2lS9pIpzCpmZF\n",
       "EMwsI+i0bmKq+S1mYsueQ1HElmwKOxoyjn3GMCO5iS7FybWd5qTzeAOyq2UPGSeJUqg/eA6d2KyR\n",
       "HgNOQ2kyD/BfYV48vPQWuLS1Pm+BwJGlmGSMXJ32MbG3jNyhmexZad/PKjmXZJPq0rCC9I8kDoBm\n",
       "15cgN3YJAB1IAaJ1m/CyGDWiXwLJJGLSLWBjhpC9a7AELbvnnPdxu7C+oMv3wlBOZG+ern9SD7QV\n",
       "8n/w40cRK644eRVAt1gordwM72sqPaRuxOFBO5MyR1sk7Em2OsOOWedgFTAiCDOJgQdQ6PugWl1F\n",
       "ILeeaSvGSovJ8zGkAQdIiS4b6PQuyf+JRO8cSfvaOxhwciLgWfvQ8RDtQLZ107VxOBblxUqOEAQt\n",
       "Xi9ddbiMrstWjB13YXx6JJQ9kLEBzzYush2YimZswvB+eaT1bi2lRLjj7gcL+SbFqvAT2MCTQ0SO\n",
       "0aacxDUlE9g/Gu9N3MkFCyfcTvlwDFHL0HBpAAAtDYdwiCWVOyPpw7IWKatNE5RRgw21uFki5zDU\n",
       "3l/39x8QqjrJsk39slv9Aa8PYEbjXw47NAomTk7+gIRIgNv8cXwAAA0W98ztCmh/442D5kb+tJmj\n",
       "SD25QgDyy8B4/ovYrmDu32wiVhaYqx0y/Q+kgsQDksYgtHqbgnhU9OSyYVGIAiTU+EVqukX8GlXL\n",
       "PsBy4qevhIRDAT4QgmE1ew4FfIqPpKrkbrBRyFh5eujwhXjmGOr65tziYlLi+bAPJeyORzNWU/8d\n",
       "pXNczrPK+wjt2jNymr1KTSLdQgrWJCAev0Ty/UGpUQXC65ZTvfpGn4gOfSis1wgx1zvmEshKk+41\n",
       "Q7UiIjud3kZWJd4tDlDqQw+Hg5XUht+tR9wYsF9B/365auQQNzPruWIAlKykCqiIpQKwrURszjfx\n",
       "NyJTBZ7KrOcZqXa55WjXQGG8RjkEGbko3fX0/rXm0pDvD9WqM/3wN8s3vxtC4TqKBj7Su5TZxXR/\n",
       "3bu+m2THdN7d9vkzD9hlXt8tSN2UHK2qEncbOeA/uzU17M1kZEXuK6j1zIgzYI8/gpilVI15pjSt\n",
       "E631p15WQAARlBzTXxhtv0fGEkW0CoCJknhEXD4FOhqMRjgh8GNLqE5QgrdU1nQQIQHuGifA4hNH\n",
       "b+NVcwPh8HClGADbW3ZCmvGm/hdZEKB3xNq/foKkcXI8BVQzpR1UOsISZYgKcPSV4V0uqPYnulrU\n",
       "7l7qEbx/90G32tT5L1P3lewr1L3rU+M0JYlrXnDo2YjMWkaooLyC3bzZ/pAOu6GnQvg4WyrH1ddn\n",
       "jBVk90t1QcEZT8S6VEMiaKenkmgrWJnSzUBChrOy3qlMr6fPW50B0rqIaTwidyvtBTck9spTdF5Y\n",
       "ZnB8ecNN3UhgcHZK+DE9BjUJPmtWq9GBb1f7XcrPt15Wb5/YTbhXrl8K13caQNKItBFxPoAAsWvk\n",
       "eblszX97Ig/xIyrm3OgBJ+PA+z0J5dgv3Ri/Kpk8HR5anld2RHTs6aUpUMkdgmNzUKvYC9L3aAUS\n",
       "n0UasiVRINHrUh7X/tfFm7nKUlH6oFwEfaDO26Nxvk5DkJoB+dkjlxVghZI5cAldVncrgIRz1rGx\n",
       "3l33QkUzCgHoqi5iT3+0DuYfLOnSsecBvy4KfsP2wSLAH/6iswa74IO/ZuBEKw3Ouvit+jKVmm+8\n",
       "UqBGBcEkHj3kDng+tMqo5GC6DHkE8HKq97nXHKIAx1GEjRNxlmzBtJKIsA3q7m/oe+gMHEX2kKfV\n",
       "RFraHsg0qOHDpuZ+9bLVefj3np45p5skwIT5DbLnXykTmnWDAua467kMyUowxaqkS40lRwH2ZMvg\n",
       "axcCrtmftcMenwWcpuN+mAOANIAXhkvTefMmf3DACT0PnKONwolKkq98AJt44c/Mx6cpsmBoCizL\n",
       "WojpEzczyjw5pwNXLYH+CLZ8Ma4n4XAl0f76atCSmMrkG2hCZV9QHIRoTDHOeNVEhs8pMa/TBhfs\n",
       "MQHBOA7xaMqhPS8uH0CHiupBuM0QTzx5jE76LJkdI1BDMQEVDJpvsbf0pAaG6k0hHy0xsJ3q6rWo\n",
       "rNac5fWiD8msaGIBRhVfTCOAfgr/+qpd4dxHHuSPG8dfLcpZbIaahdsMG8ehZVZKXTkds8rm75H2\n",
       "hFyVSJVTjjzCiu0BKxYZ4g+XIbBFa15l64qPJdQc+szNY6tOT+zm1RzC/QKAjDWo5ORO47fp/IYx\n",
       "/FOT+PPgWw4WVw2amL89+PT1qS5/boIW24NScNNEAAasImloKXRwMVRPqM/ZiRHAr+zJ19a95u/N\n",
       "uZlIBOvs6AKVEzRDR9MZpJPRLFIFWEOsk7K+daes60v1FSL8j+wL9AuLOXMo8Mj0KCkxBcEpj/GM\n",
       "w5PKNPpycFrD3iPGWwcjERZ8vLBmtp/M1j5tj1e9Y/SL8ld6Nb4VhQvX/NXXNnYpie99Dibpfmw9\n",
       "C8KYgQ9QbBRo5anR2P3tOsNrsKZB2weI4J7Knh5melIkFjoLOy3ipfv6ij9l9zGKkAzkAphmdwCI\n",
       "71DGLrup+njlJTALvnfkb9Zfh548BrRwLRkc8cd39+2THDIPWfUuGl65Ini6+TqnlYRrgSqncQGc\n",
       "6XW17aXBNDfGSKdflbQVf4D3+Ngx4DZhG2irjK79WKMUCr0WWbEdxYb6DRtG94PHNzJCsNWxYQ3N\n",
       "aP65FhirtPDbjQcCsFq0cDZCad7C7eAVwJR2xvIWg5MrQ0H9WqMW+Fs+l2O1P84XpuS5xnndTYpz\n",
       "YdkP6Mj56MaCRAtrZ8EJpWUsflbkvvabiNS8loaIpctb3+xgoPS6Ob/vRMLyNanqGK9O5WaUto0P\n",
       "9duhELJfildneC2YvbPck8MGX41zmHKyCukUxUx9A6pi7LKrfdIP9faZp5jD3YqqN7jni9K0cOUk\n",
       "dwiRBFrTWo5gef2yY6HyWMiQXJem/cTMw5hS7PV0LC8ZrOlMI+JpdkYf1XhdrW6EaGi5sybyoH4I\n",
       "s5eyIyGjv3A8TnfR2Hy7kIdPSNxskBCsg9qWmWuf6IoiQNpxCuG/561j8atIu20ugDG88AgAPrTx\n",
       "5HgWSFonh1LZpBgoR0Qejrq38UUpCixVhSFo/51/9BYn77KL8JV9xOR/ZliF07W/hZdlI5W9fpUA\n",
       "OfTnXUrpALpT7k6EwLgmB1jN9X+w+OI4De2Y3kvYeczoQ3nBcvbJLvw+PhYPbP2gNhg5zWY6COnl\n",
       "VwBCo+6kWDkAAAMAN2EAAACSQZokbEO//qmWABlL+iAEWtFk0GBhlBXKbu3h51KBpeB41aj2qXwL\n",
       "LQQiYC8q9w31d+jE256uj+fwWWhjWuQy6mO7RIH83BV41mbhBlPI4xWbCp0lWICi3AMlQtv5xNe9\n",
       "auOGXAoYQ34246HtD9J6KJxkPBCGz3LuDX/3b8P9KCbSU7LQy5YJzS0GGLLokzsAPmAAAAAlQZ5C\n",
       "eIZ/AALWocUgcDWXBGy97yGP4Uy21urEBsdH+CAGCAB7QQAAACABnmF0Qr8AADI/1DX0CdyuhF+O\n",
       "CuHU1pE7uEMHXABUwAAAABUBnmNqQr8AAAMAcVklXpVUDdgA34EAAAF3QZpnSahBaJlMCG///qeE\n",
       "AAHaHw0gAxOS+Qfe3yHcBNkPwWA2X6qGTgGyDwZoaDj89GE89BtKZkAQZ9DoAGe/fpi4xN06+UVv\n",
       "/rVltIyeD9MizMs+Ozfa3OFWpBJu6niZ5fPn8evRQ7w2yQ192xHH0M0EiZ7gdASxOsh5781elWHS\n",
       "32GeK1lcO3URf2+v8+eaSArmUwW/oMgLI1fx6AUkZ87UEkzD5i8nPhN3zAMaWdhOTMQ9ASFGTD/7\n",
       "DGdCJgg//cLnH4yhl+XPQdl+6a+FjN0rTxf9lmra/3IUjM01/6LEvzWjptPgFClaPoC1Xs92RCL0\n",
       "9RsTa05yVnkTnJ3BR5d2H/80cfhtP7skiK9x7yaej6VmhWveQ+Y8D5GgyjHF6bXeEZRwLyqYU2b0\n",
       "JBBySwr9bFzIP+oE+PDS3I9wIYXUrk02BvFYSG2dtR29lRiu63RCvw89yJsXkwXKy6G+zZmZkYXk\n",
       "kh0DWkSG3fD+XYQiWchEAAKnAAAAOEGehUURLC//AAEdzjp7220HRA+PprSsDHqBvkEaDdq4Sa5x\n",
       "p/8r9Kwy4xNBMSXM8WiXa/iYAEvBAAAAbgGepmpCvwABiHQyo498zpI5RGGSVAA04enMwWaD02GV\n",
       "0fodpxSq8yMELrFK+GxKVL601I2JSD8Jr01Amix5+8IphMcx5uds18MUBw7iM/iteiX4cWGbdH1+\n",
       "A4quVZ4dAB5XSbS9Go1M1rcAAA1JAAAAykGaqEmoQWyZTAh3//6plgAA7vi283+EwC3ibKBkPJYj\n",
       "NtZm8gJw8WccLoQKUA/gP8L1G32iDjjgNxADKWJAwsz7ewzPaFvlHRDa6jdAhL370l5Bcy/b3E8/\n",
       "uJLth//xcSD1iOYXUtna+QDHnrr+qaiziZOejbUfCyodJyXFMe9ba21IQlQysEFXWmI4BZ29e3Hw\n",
       "hGblaOSR8K9CVmQfsqeSGDFRdpej8GmZ/+Y1k3EyrflHlNRgnVwETBJi5VB00E7ozc/p4/AAAfMA\n",
       "AADjQZrJSeEKUmUwId/+qZYAChe4lLaIdYn4TWaMACIN69ZyadUwuZgXLVJfVu8go19qO24tf4TA\n",
       "1LjiatUNF3dpPPJy/MVejHtHWb5M3k/zyEFWUOJ0k8JJ1wkq7shslPTpBnFwnz+GWh30SJLIpA5A\n",
       "rti0iS4bX+uB+mgsWUeSMmvUJqOZIPVEJpduigaEAj7/1YLMh208Mi3dI4LH/77jdP9mXjLoFGIZ\n",
       "dqRF7Sbzf56Xk9G+8PiAZhf9fGiL8PNXScDEysMxkX3XgbzRG4NktM0CpNolX5rlQRk4ohYi0iYA\n",
       "G9AAAAB8QZrtSeEOiZTAh3/+qZYAAAMBnqkP+J/AEbyJP0hcU/0/kHW7NXMq8WNKTycniPeTP2tg\n",
       "PYcVp0CguergAUajOiiyvfEZckSV5mAHeHms/prY8KTCSg2+nHxDPJtcZRSSukASm6Hm5FRz/XU3\n",
       "7sJhKyr3Lv4j3CvTgABjwQAAAB5BnwtFETwz/wAAAwPMWESbTH4WO7wF+amk6BAAGpAAAAAZAZ8q\n",
       "dEK/AAADAqCWxQimpuTgGUsa/AAI+AAAABABnyxqQr8AAAcVlHqAAAelAAAAGUGbMUmoQWiZTAhv\n",
       "//6nhAAAAwAAAwAAWUEAAAAWQZ9PRREsM/8AAAMDzMEw5XktqAAN6QAAABABn250Qr8AAAcTgHqA\n",
       "AAekAAAAEAGfcGpCvwAABxWUeoAAB6QAAAAYQZt0SahBbJlMCFf//jhAAAADAAADAAVNAAAAFUGf\n",
       "kkUVLC//AAAFQyLtqGqQQAAtIAAAABABn7NqQr8AAAcVlHqAAAekAAAEEm1vb3YAAABsbXZoZAAA\n",
       "AAAAAAAAAAAAAAAAA+gAAAQaAAEAAAEAAAAAAAAAAAAAAAABAAAAAAAAAAAAAAAAAAAAAQAAAAAA\n",
       "AAAAAAAAAAAAQAAAAAAAAAAAAAAAAAAAAAAAAAAAAAAAAAAAAAAAAAIAAAM8dHJhawAAAFx0a2hk\n",
       "AAAAAwAAAAAAAAAAAAAAAQAAAAAAAAQaAAAAAAAAAAAAAAAAAAAAAAABAAAAAAAAAAAAAAAAAAAA\n",
       "AQAAAAAAAAAAAAAAAAAAQAAAAAKAAAAB4AAAAAAAJGVkdHMAAAAcZWxzdAAAAAAAAAABAAAEGgAA\n",
       "BAAAAQAAAAACtG1kaWEAAAAgbWRoZAAAAAAAAAAAAAAAAAAAKAAAACoAVcQAAAAAAC1oZGxyAAAA\n",
       "AAAAAAB2aWRlAAAAAAAAAAAAAAAAVmlkZW9IYW5kbGVyAAAAAl9taW5mAAAAFHZtaGQAAAABAAAA\n",
       "AAAAAAAAAAAkZGluZgAAABxkcmVmAAAAAAAAAAEAAAAMdXJsIAAAAAEAAAIfc3RibAAAALNzdHNk\n",
       "AAAAAAAAAAEAAACjYXZjMQAAAAAAAAABAAAAAAAAAAAAAAAAAAAAAAKAAeAASAAAAEgAAAAAAAAA\n",
       "AQAAAAAAAAAAAAAAAAAAAAAAAAAAAAAAAAAAAAAAAAAAABj//wAAADFhdmNDAWQAHv/hABhnZAAe\n",
       "rNlAoD2hAAADAAEAAAMAKA8WLZYBAAZo6+PLIsAAAAAcdXVpZGtoQPJfJE/FujmlG88DI/MAAAAA\n",
       "AAAAGHN0dHMAAAAAAAAAAQAAABUAAAIAAAAAFHN0c3MAAAAAAAAAAQAAAAEAAACgY3R0cwAAAAAA\n",
       "AAASAAAAAQAABAAAAAABAAAKAAAAAAEAAAQAAAAAAQAAAAAAAAABAAACAAAAAAEAAAgAAAAAAgAA\n",
       "AgAAAAACAAAEAAAAAAEAAAoAAAAAAQAABAAAAAABAAAAAAAAAAEAAAIAAAAAAQAACgAAAAABAAAE\n",
       "AAAAAAEAAAAAAAAAAQAAAgAAAAABAAAIAAAAAAIAAAIAAAAAHHN0c2MAAAAAAAAAAQAAAAEAAAAV\n",
       "AAAAAQAAAGhzdHN6AAAAAAAAAAAAAAAVAAAR6wAAAJYAAAApAAAAJAAAABkAAAF7AAAAPAAAAHIA\n",
       "AADOAAAA5wAAAIAAAAAiAAAAHQAAABQAAAAdAAAAGgAAABQAAAAUAAAAHAAAABkAAAAUAAAAFHN0\n",
       "Y28AAAAAAAAAAQAAACwAAABidWR0YQAAAFptZXRhAAAAAAAAACFoZGxyAAAAAAAAAABtZGlyYXBw\n",
       "bAAAAAAAAAAAAAAAAC1pbHN0AAAAJal0b28AAAAdZGF0YQAAAAEAAAAATGF2ZjU4LjI5LjEwMA==\n",
       "\">\n",
       "  Your browser does not support the video tag.\n",
       "</video>"
      ],
      "text/plain": [
       "<IPython.core.display.HTML object>"
      ]
     },
     "execution_count": 17,
     "metadata": {},
     "output_type": "execute_result"
    }
   ],
   "source": [
    "fig = plt.figure()\n",
    "plt.axis('off')\n",
    "im = plt.imshow(makeColorGrid(grids[0,:,:]), animated=True)\n",
    "\n",
    "# The animation function: called to produce a frame for each generation.\n",
    "def updatefig(i, *args):\n",
    "    global grids\n",
    "    im.set_array(makeColorGrid(grids[i,:,:]))\n",
    "    return im,\n",
    "\n",
    "grid_ani = animation.FuncAnimation(fig, updatefig, save_count = len(grids),\n",
    "                                   interval=50, blit=False)\n",
    "plt.show()\n",
    "\n",
    "# To save the animation, use the command, placed before HTML:\n",
    "grid_ani.save('Fire.mp4', writer=writer)\n",
    "\n",
    "HTML(grid_ani.to_html5_video())"
   ]
  }
 ],
 "metadata": {
  "kernelspec": {
   "display_name": "Python 3",
   "language": "python",
   "name": "python3"
  },
  "language_info": {
   "codemirror_mode": {
    "name": "ipython",
    "version": 3
   },
   "file_extension": ".py",
   "mimetype": "text/x-python",
   "name": "python",
   "nbconvert_exporter": "python",
   "pygments_lexer": "ipython3",
   "version": "3.8.10"
  }
 },
 "nbformat": 4,
 "nbformat_minor": 2
}
