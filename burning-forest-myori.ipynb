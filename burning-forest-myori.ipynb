{
 "cells": [
  {
   "cell_type": "markdown",
   "metadata": {},
   "source": [
    "# iZcyBurningForest\n",
    "## Config Initialization"
   ]
  },
  {
   "cell_type": "code",
   "execution_count": 1,
   "metadata": {},
   "outputs": [
    {
     "name": "stdout",
     "output_type": "stream",
     "text": [
      "Requirement already satisfied: matplotlib in /home/izcy/.local/lib/python3.8/site-packages (3.7.5)\n",
      "Requirement already satisfied: python-dateutil>=2.7 in /home/izcy/.local/lib/python3.8/site-packages (from matplotlib) (2.9.0.post0)\n",
      "Requirement already satisfied: fonttools>=4.22.0 in /home/izcy/.local/lib/python3.8/site-packages (from matplotlib) (4.51.0)\n",
      "Requirement already satisfied: importlib-resources>=3.2.0; python_version < \"3.10\" in /home/izcy/.local/lib/python3.8/site-packages (from matplotlib) (6.4.0)\n",
      "Requirement already satisfied: pillow>=6.2.0 in /usr/lib/python3/dist-packages (from matplotlib) (7.0.0)\n",
      "Requirement already satisfied: cycler>=0.10 in /home/izcy/.local/lib/python3.8/site-packages (from matplotlib) (0.12.1)\n",
      "Requirement already satisfied: numpy<2,>=1.20 in /home/izcy/.local/lib/python3.8/site-packages (from matplotlib) (1.24.4)\n",
      "Requirement already satisfied: contourpy>=1.0.1 in /home/izcy/.local/lib/python3.8/site-packages (from matplotlib) (1.1.1)\n",
      "Requirement already satisfied: packaging>=20.0 in /home/izcy/.local/lib/python3.8/site-packages (from matplotlib) (24.0)\n",
      "Requirement already satisfied: pyparsing>=2.3.1 in /home/izcy/.local/lib/python3.8/site-packages (from matplotlib) (3.1.2)\n",
      "Requirement already satisfied: kiwisolver>=1.0.1 in /home/izcy/.local/lib/python3.8/site-packages (from matplotlib) (1.4.5)\n",
      "Requirement already satisfied: six>=1.5 in /usr/lib/python3/dist-packages (from python-dateutil>=2.7->matplotlib) (1.14.0)\n",
      "Requirement already satisfied: zipp>=3.1.0; python_version < \"3.10\" in /home/izcy/.local/lib/python3.8/site-packages (from importlib-resources>=3.2.0; python_version < \"3.10\"->matplotlib) (3.18.1)\n",
      "Note: you may need to restart the kernel to use updated packages.\n"
     ]
    }
   ],
   "source": [
    "%pip install matplotlib\n",
    "# also do: sudo apt-get install ffmpeg"
   ]
  },
  {
   "cell_type": "markdown",
   "metadata": {},
   "source": [
    "## Initialize Packages"
   ]
  },
  {
   "cell_type": "code",
   "execution_count": 2,
   "metadata": {},
   "outputs": [],
   "source": [
    "import numpy as np\n",
    "import matplotlib\n",
    "import matplotlib.pyplot as plt\n",
    "import matplotlib.image as mpimg\n",
    "import matplotlib.animation as animation\n",
    "from IPython.display import HTML  # for embedded matplotlib animation\n",
    "from math import *\n",
    "from random import *\n",
    "import time\n",
    "\n",
    "matplotlib.rc('animation', html='html5')\n",
    "Writer = animation.writers['ffmpeg']\n",
    "writer = Writer(fps=15, metadata=dict(artist='Me'), bitrate=1800)"
   ]
  },
  {
   "cell_type": "markdown",
   "metadata": {},
   "source": [
    "## Cleaning .mp4"
   ]
  },
  {
   "cell_type": "code",
   "execution_count": 3,
   "metadata": {},
   "outputs": [],
   "source": [
    "import os\n",
    "\n",
    "def delete_mp4_files(directory):\n",
    "    # Iterate over all files in the directory\n",
    "    for filename in os.listdir(directory):\n",
    "        # Check if the file ends with '.mp4'\n",
    "        if filename.endswith(\".mp4\"):\n",
    "            # Construct the full path to the file\n",
    "            file_path = os.path.join(directory, filename)\n",
    "            # Delete the file\n",
    "            os.remove(file_path)\n",
    "            print(f\"Deleted: {file_path}\")\n",
    "\n",
    "# Get the current directory\n",
    "current_directory = os.getcwd()\n",
    "\n",
    "# Call the function to delete .mp4 files in the current directory\n",
    "delete_mp4_files(current_directory)\n"
   ]
  },
  {
   "cell_type": "markdown",
   "metadata": {},
   "source": [
    "## Defining States"
   ]
  },
  {
   "cell_type": "code",
   "execution_count": 4,
   "metadata": {},
   "outputs": [],
   "source": [
    "## Define States\n",
    "global EMPTY, TREE, BURNING, BURNING_MAX\n",
    "EMPTY = 0\n",
    "TREE = 1\n",
    "BURNING = 2\n",
    "BURNING_MAX = 3\n",
    "\n",
    "global grid_ani"
   ]
  },
  {
   "cell_type": "markdown",
   "metadata": {},
   "source": [
    "## Colouring"
   ]
  },
  {
   "cell_type": "code",
   "execution_count": 5,
   "metadata": {},
   "outputs": [],
   "source": [
    "def makeColorGrid(grid):\n",
    "    n = grid.shape[0]\n",
    "    colorGrid = np.zeros((n, n, 3))\n",
    "    colorGrid[:, :, 0] = 1\n",
    "    colorGrid[:, :, 1] = 1\n",
    "    for i in range(0, n):\n",
    "        for j in range(0, n):\n",
    "            if (grid[i, j] == TREE):\n",
    "                colorGrid[i, j, 0] = 0.1\n",
    "                colorGrid[i, j, 1] = 0.75\n",
    "                colorGrid[i, j, 2] = 0.02\n",
    "            if (grid[i, j] >= BURNING and grid[i, j] <= BURNING_MAX):\n",
    "                colorGrid[i, j, 0] = 0.6\n",
    "                colorGrid[i, j, 1] = 0.2\n",
    "                colorGrid[i, j, 2] = 0.1\n",
    "    return colorGrid"
   ]
  },
  {
   "cell_type": "markdown",
   "metadata": {},
   "source": [
    "## Drawing"
   ]
  },
  {
   "cell_type": "code",
   "execution_count": 6,
   "metadata": {},
   "outputs": [],
   "source": [
    "def drawing(grids, save=False):\n",
    "    # Execute\n",
    "    fig = plt.figure()\n",
    "    plt.axis('off')\n",
    "    im = plt.imshow(makeColorGrid(grids[0,:,:]), animated=True)\n",
    "\n",
    "    # The animation function: called to produce a frame for each generation.\n",
    "    def updatefig(i, *args):\n",
    "        im.set_array(makeColorGrid(grids[i,:,:]))\n",
    "        return im,\n",
    "\n",
    "    grid_ani = animation.FuncAnimation(\n",
    "        fig, updatefig, save_count = len(grids), interval=500, blit=False)\n",
    "    plt.show()\n",
    "\n",
    "    # Get current time in seconds since the epoch\n",
    "    current_time = int(time.time())\n",
    "\n",
    "    # To save the animation, use the command, placed before HTML:\n",
    "    if save:\n",
    "        grid_ani.save(f'Fire {current_time}.mp4', writer=writer)"
   ]
  },
  {
   "cell_type": "markdown",
   "metadata": {},
   "source": [
    "## Initialize Forest"
   ]
  },
  {
   "cell_type": "code",
   "execution_count": 7,
   "metadata": {},
   "outputs": [],
   "source": [
    "def initForest(n):\n",
    "    forest = np.zeros((n, n))\n",
    "    for i in range(0, n):\n",
    "        for j in range(0, n):\n",
    "            forest[i, j] = TREE\n",
    "    return forest"
   ]
  },
  {
   "cell_type": "markdown",
   "metadata": {},
   "source": [
    "## Burn the Forest into Grids"
   ]
  },
  {
   "cell_type": "code",
   "execution_count": 16,
   "metadata": {},
   "outputs": [],
   "source": [
    "def burningForest(site, N, E, S, W, probLightning, probImmune):\n",
    "    if (site == EMPTY):\n",
    "        newSite = EMPTY\n",
    "    else:\n",
    "        if (site == BURNING):\n",
    "            newSite = EMPTY\n",
    "        else:\n",
    "            if (N == BURNING or E == BURNING or S == BURNING or W == BURNING):\n",
    "                if (random() < probImmune):\n",
    "                    newSite = TREE\n",
    "                else:\n",
    "                    newSite = BURNING\n",
    "            else:\n",
    "                if (random() < probLightning * (1 - probImmune)):\n",
    "                    newSite = BURNING\n",
    "                else:\n",
    "                    newSite = TREE\n",
    "    return newSite"
   ]
  },
  {
   "cell_type": "markdown",
   "metadata": {},
   "source": [
    "## Repeater"
   ]
  },
  {
   "cell_type": "code",
   "execution_count": 17,
   "metadata": {},
   "outputs": [],
   "source": [
    "# burningForest with x times of repetition\n",
    "def burningForestRepeat(forest_span, t, fireProbability, x=1, save=False):\n",
    "    tree_percentages = []\n",
    "    for i in range(x):\n",
    "        tree_percentage = burningForest(forest_span, t, fireProbability)\n",
    "        tree_percentages.append(tree_percentage)\n",
    "    return tree_percentages"
   ]
  },
  {
   "cell_type": "markdown",
   "metadata": {},
   "source": [
    "## Initialize Size and Time"
   ]
  },
  {
   "cell_type": "code",
   "execution_count": 10,
   "metadata": {},
   "outputs": [],
   "source": [
    "# Initialize the Forest\n",
    "n = 17\n",
    "t = 8\n",
    "x = 1\n"
   ]
  },
  {
   "cell_type": "markdown",
   "metadata": {},
   "source": [
    "## Calculate Each Probabilty"
   ]
  },
  {
   "cell_type": "code",
   "execution_count": 19,
   "metadata": {},
   "outputs": [
    {
     "name": "stdout",
     "output_type": "stream",
     "text": [
      "Percentage: [0.3460207612456827]\n"
     ]
    }
   ],
   "source": [
    "# Run the Simulation\n",
    "ptg = burningForestRepeat(forest_span=n, t=t, fireProbability=0.1, x=x)\n",
    "# grid_ani = drawing(grids)\n",
    "# HTML(grid_ani.to_html5_video())\n",
    "print(f\"Percentage: {ptg}\")"
   ]
  },
  {
   "cell_type": "code",
   "execution_count": null,
   "metadata": {},
   "outputs": [
    {
     "data": {
      "image/png": "[encoded data removed]",
      "text/plain": [
       "<Figure size 640x480 with 1 Axes>"
      ]
     },
     "metadata": {},
     "output_type": "display_data"
    },
    {
     "name": "stdout",
     "output_type": "stream",
     "text": [
      "Percentage: 0.6920415224913512\n"
     ]
    }
   ],
   "source": [
    "# Run the Simulation\n",
    "ptg = burningForest(forest_span=n, t=t, fireProbability=0.1)\n",
    "HTML(grid_ani.to_html5_video())\n",
    "print(f\"Percentage: {ptg}\")"
   ]
  },
  {
   "cell_type": "code",
   "execution_count": null,
   "metadata": {},
   "outputs": [
    {
     "data": {
      "image/png": "[encoded data removed]",
      "text/plain": [
       "<Figure size 640x480 with 1 Axes>"
      ]
     },
     "metadata": {},
     "output_type": "display_data"
    },
    {
     "name": "stdout",
     "output_type": "stream",
     "text": [
      "Percentage: 2.0761245674740536\n"
     ]
    }
   ],
   "source": [
    "# Run the Simulation\n",
    "ptg = burningForest(forest_span=n, t=t, fireProbability=0.3)\n",
    "HTML(grid_ani.to_html5_video())\n",
    "print(f\"Percentage: {ptg}\")"
   ]
  },
  {
   "cell_type": "code",
   "execution_count": null,
   "metadata": {},
   "outputs": [
    {
     "data": {
      "image/png": "[encoded data removed]",
      "text/plain": [
       "<Figure size 640x480 with 1 Axes>"
      ]
     },
     "metadata": {},
     "output_type": "display_data"
    },
    {
     "name": "stdout",
     "output_type": "stream",
     "text": [
      "Percentage: 7.266435986159166\n"
     ]
    }
   ],
   "source": [
    "# Run the Simulation\n",
    "ptg = burningForest(forest_span=n, t=t, fireProbability=0.4)\n",
    "HTML(grid_ani.to_html5_video())\n",
    "print(f\"Percentage: {ptg}\")"
   ]
  },
  {
   "cell_type": "code",
   "execution_count": null,
   "metadata": {},
   "outputs": [
    {
     "data": {
      "image/png": "[encoded data removed]",
      "text/plain": [
       "<Figure size 640x480 with 1 Axes>"
      ]
     },
     "metadata": {},
     "output_type": "display_data"
    },
    {
     "name": "stdout",
     "output_type": "stream",
     "text": [
      "Percentage: 3.460207612456742\n"
     ]
    }
   ],
   "source": [
    "# Run the Simulation\n",
    "ptg = burningForest(forest_span=n, t=t, fireProbability=0.5)\n",
    "HTML(grid_ani.to_html5_video())\n",
    "print(f\"Percentage: {ptg}\")"
   ]
  },
  {
   "cell_type": "code",
   "execution_count": null,
   "metadata": {},
   "outputs": [
    {
     "data": {
      "image/png": "[encoded data removed]",
      "text/plain": [
       "<Figure size 640x480 with 1 Axes>"
      ]
     },
     "metadata": {},
     "output_type": "display_data"
    },
    {
     "name": "stdout",
     "output_type": "stream",
     "text": [
      "Percentage: 23.875432525951553\n"
     ]
    }
   ],
   "source": [
    "# Run the Simulation\n",
    "ptg = burningForest(forest_span=n, t=t, fireProbability=0.6)\n",
    "HTML(grid_ani.to_html5_video())\n",
    "print(f\"Percentage: {ptg}\")"
   ]
  },
  {
   "cell_type": "code",
   "execution_count": null,
   "metadata": {},
   "outputs": [
    {
     "data": {
      "image/png": "[encoded data removed]",
      "text/plain": [
       "<Figure size 640x480 with 1 Axes>"
      ]
     },
     "metadata": {},
     "output_type": "display_data"
    },
    {
     "name": "stdout",
     "output_type": "stream",
     "text": [
      "Percentage: 29.411764705882348\n"
     ]
    }
   ],
   "source": [
    "# Run the Simulation\n",
    "ptg = burningForest(forest_span=n, t=t, fireProbability=0.7)\n",
    "HTML(grid_ani.to_html5_video())\n",
    "print(f\"Percentage: {ptg}\")"
   ]
  },
  {
   "cell_type": "code",
   "execution_count": null,
   "metadata": {},
   "outputs": [
    {
     "data": {
      "image/png": "[encoded data removed]",
      "text/plain": [
       "<Figure size 640x480 with 1 Axes>"
      ]
     },
     "metadata": {},
     "output_type": "display_data"
    },
    {
     "name": "stdout",
     "output_type": "stream",
     "text": [
      "Percentage: 37.0242214532872\n"
     ]
    }
   ],
   "source": [
    "# Run the Simulation\n",
    "ptg = burningForest(forest_span=n, t=t, fireProbability=0.8)\n",
    "HTML(grid_ani.to_html5_video())\n",
    "print(f\"Percentage: {ptg}\")"
   ]
  },
  {
   "cell_type": "code",
   "execution_count": null,
   "metadata": {},
   "outputs": [
    {
     "data": {
      "image/png": "[encoded data removed]",
      "text/plain": [
       "<Figure size 640x480 with 1 Axes>"
      ]
     },
     "metadata": {},
     "output_type": "display_data"
    },
    {
     "name": "stdout",
     "output_type": "stream",
     "text": [
      "Percentage: 46.36678200692042\n"
     ]
    }
   ],
   "source": [
    "# Run the Simulation\n",
    "ptg = burningForest(forest_span=n, t=t, fireProbability=0.9)\n",
    "HTML(grid_ani.to_html5_video())\n",
    "print(f\"Percentage: {ptg}\")"
   ]
  }
 ],
 "metadata": {
  "kernelspec": {
   "display_name": "Python 3",
   "language": "python",
   "name": "python3"
  },
  "language_info": {
   "codemirror_mode": {
    "name": "ipython",
    "version": 3
   },
   "file_extension": ".py",
   "mimetype": "text/x-python",
   "name": "python",
   "nbconvert_exporter": "python",
   "pygments_lexer": "ipython3",
   "version": "3.8.10"
  }
 },
 "nbformat": 4,
 "nbformat_minor": 2
}
