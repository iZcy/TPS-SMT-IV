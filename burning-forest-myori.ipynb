{
 "cells": [
  {
   "cell_type": "markdown",
   "metadata": {},
   "source": [
    "# iZcyBurningForest\n",
    "## Config Initialization"
   ]
  },
  {
   "cell_type": "code",
   "execution_count": 140,
   "metadata": {},
   "outputs": [
    {
     "name": "stdout",
     "output_type": "stream",
     "text": [
      "Requirement already satisfied: matplotlib in /home/izcy/.local/lib/python3.8/site-packages (3.7.5)\n",
      "Requirement already satisfied: packaging>=20.0 in /home/izcy/.local/lib/python3.8/site-packages (from matplotlib) (24.0)\n",
      "Requirement already satisfied: numpy<2,>=1.20 in /home/izcy/.local/lib/python3.8/site-packages (from matplotlib) (1.24.4)\n",
      "Requirement already satisfied: cycler>=0.10 in /home/izcy/.local/lib/python3.8/site-packages (from matplotlib) (0.12.1)\n",
      "Requirement already satisfied: importlib-resources>=3.2.0; python_version < \"3.10\" in /home/izcy/.local/lib/python3.8/site-packages (from matplotlib) (6.4.0)\n",
      "Requirement already satisfied: contourpy>=1.0.1 in /home/izcy/.local/lib/python3.8/site-packages (from matplotlib) (1.1.1)\n",
      "Requirement already satisfied: pyparsing>=2.3.1 in /home/izcy/.local/lib/python3.8/site-packages (from matplotlib) (3.1.2)\n",
      "Requirement already satisfied: python-dateutil>=2.7 in /home/izcy/.local/lib/python3.8/site-packages (from matplotlib) (2.9.0.post0)\n",
      "Requirement already satisfied: kiwisolver>=1.0.1 in /home/izcy/.local/lib/python3.8/site-packages (from matplotlib) (1.4.5)\n",
      "Requirement already satisfied: fonttools>=4.22.0 in /home/izcy/.local/lib/python3.8/site-packages (from matplotlib) (4.51.0)\n",
      "Requirement already satisfied: pillow>=6.2.0 in /usr/lib/python3/dist-packages (from matplotlib) (7.0.0)\n",
      "Requirement already satisfied: zipp>=3.1.0; python_version < \"3.10\" in /home/izcy/.local/lib/python3.8/site-packages (from importlib-resources>=3.2.0; python_version < \"3.10\"->matplotlib) (3.18.1)\n",
      "Requirement already satisfied: six>=1.5 in /usr/lib/python3/dist-packages (from python-dateutil>=2.7->matplotlib) (1.14.0)\n",
      "Note: you may need to restart the kernel to use updated packages.\n"
     ]
    }
   ],
   "source": [
    "%pip install matplotlib\n",
    "# also do: sudo apt-get install ffmpeg"
   ]
  },
  {
   "cell_type": "markdown",
   "metadata": {},
   "source": [
    "## Initialize Packages"
   ]
  },
  {
   "cell_type": "code",
   "execution_count": 141,
   "metadata": {},
   "outputs": [],
   "source": [
    "import numpy as np\n",
    "import matplotlib\n",
    "import matplotlib.pyplot as plt\n",
    "import matplotlib.image as mpimg\n",
    "import matplotlib.animation as animation\n",
    "from IPython.display import HTML  # for embedded matplotlib animation\n",
    "from math import *\n",
    "from random import *\n",
    "import time\n",
    "\n",
    "matplotlib.rc('animation', html='html5')\n",
    "Writer = animation.writers['ffmpeg']\n",
    "writer = Writer(fps=15, metadata=dict(artist='Me'), bitrate=1800)"
   ]
  },
  {
   "cell_type": "markdown",
   "metadata": {},
   "source": [
    "## Cleaning .mp4"
   ]
  },
  {
   "cell_type": "code",
   "execution_count": 142,
   "metadata": {},
   "outputs": [
    {
     "name": "stdout",
     "output_type": "stream",
     "text": [
      "Deleted: /home/izcy/Desktop/UGM/TPS/Fire.mp4\n",
      "Deleted: /home/izcy/Desktop/UGM/TPS/Fire 1715562290.mp4\n",
      "Deleted: /home/izcy/Desktop/UGM/TPS/Fire 1715562387.mp4\n",
      "Deleted: /home/izcy/Desktop/UGM/TPS/Fire 1715562283.mp4\n",
      "Deleted: /home/izcy/Desktop/UGM/TPS/Fire 1715562004.mp4\n",
      "Deleted: /home/izcy/Desktop/UGM/TPS/Fire 1715562639.mp4\n"
     ]
    }
   ],
   "source": [
    "import os\n",
    "\n",
    "def delete_mp4_files(directory):\n",
    "    # Iterate over all files in the directory\n",
    "    for filename in os.listdir(directory):\n",
    "        # Check if the file ends with '.mp4'\n",
    "        if filename.endswith(\".mp4\"):\n",
    "            # Construct the full path to the file\n",
    "            file_path = os.path.join(directory, filename)\n",
    "            # Delete the file\n",
    "            os.remove(file_path)\n",
    "            print(f\"Deleted: {file_path}\")\n",
    "\n",
    "# Get the current directory\n",
    "current_directory = os.getcwd()\n",
    "\n",
    "# Call the function to delete .mp4 files in the current directory\n",
    "delete_mp4_files(current_directory)\n"
   ]
  },
  {
   "cell_type": "markdown",
   "metadata": {},
   "source": [
    "## Defining States"
   ]
  },
  {
   "cell_type": "code",
   "execution_count": 143,
   "metadata": {},
   "outputs": [],
   "source": [
    "## Define States\n",
    "global EMPTY, TREE, BURNING, BURNING_MAX\n",
    "EMPTY = 0\n",
    "TREE = 1\n",
    "BURNING = 2\n",
    "BURNING_MAX = 3\n",
    "\n",
    "global grid_ani"
   ]
  },
  {
   "cell_type": "markdown",
   "metadata": {},
   "source": [
    "## Colouring"
   ]
  },
  {
   "cell_type": "code",
   "execution_count": 144,
   "metadata": {},
   "outputs": [],
   "source": [
    "def makeColorGrid(grid):\n",
    "    n = grid.shape[0]\n",
    "    colorGrid = np.zeros((n, n, 3))\n",
    "    colorGrid[:, :, 0] = 1\n",
    "    colorGrid[:, :, 1] = 1\n",
    "    for i in range(0, n):\n",
    "        for j in range(0, n):\n",
    "            if (grid[i, j] == TREE):\n",
    "                colorGrid[i, j, 0] = 0.1\n",
    "                colorGrid[i, j, 1] = 0.75\n",
    "                colorGrid[i, j, 2] = 0.02\n",
    "            if (grid[i, j] >= BURNING and grid[i, j] <= BURNING_MAX):\n",
    "                colorGrid[i, j, 0] = 0.6\n",
    "                colorGrid[i, j, 1] = 0.2\n",
    "                colorGrid[i, j, 2] = 0.1\n",
    "    return colorGrid"
   ]
  },
  {
   "cell_type": "markdown",
   "metadata": {},
   "source": [
    "## Drawing"
   ]
  },
  {
   "cell_type": "code",
   "execution_count": 145,
   "metadata": {},
   "outputs": [],
   "source": [
    "def drawing(grids, save=False):\n",
    "    # Execute\n",
    "    fig = plt.figure()\n",
    "    plt.axis('off')\n",
    "    im = plt.imshow(makeColorGrid(grids[0,:,:]), animated=True)\n",
    "\n",
    "    # The animation function: called to produce a frame for each generation.\n",
    "    def updatefig(i, *args):\n",
    "        im.set_array(makeColorGrid(grids[i,:,:]))\n",
    "        return im\n",
    "\n",
    "    global grid_ani\n",
    "    grid_ani = animation.FuncAnimation(\n",
    "        fig, updatefig, save_count = len(grids), interval=500, blit=False)\n",
    "    plt.show()\n",
    "\n",
    "    # Get current time in seconds since the epoch\n",
    "    current_time = int(time.time())\n",
    "\n",
    "    # To save the animation, use the command, placed before HTML:\n",
    "    if save:\n",
    "        grid_ani.save(f'Fire {current_time}.mp4', writer=writer)"
   ]
  },
  {
   "cell_type": "markdown",
   "metadata": {},
   "source": [
    "## Initialize the Forest"
   ]
  },
  {
   "cell_type": "code",
   "execution_count": 146,
   "metadata": {},
   "outputs": [],
   "source": [
    "def initForest(n):\n",
    "    forest = np.zeros((n, n))\n",
    "    for i in range(0, n):\n",
    "        for j in range(0, n):\n",
    "            forest[i, j] = TREE\n",
    "    return forest"
   ]
  },
  {
   "cell_type": "markdown",
   "metadata": {},
   "source": [
    "## Burn the Forest into Grids"
   ]
  },
  {
   "cell_type": "code",
   "execution_count": 158,
   "metadata": {},
   "outputs": [],
   "source": [
    "def burningForest(forest_span, t, fireProbability, save=False):\n",
    "    n = forest_span\n",
    "    init = initForest(n)\n",
    "\n",
    "    forest = np.zeros((t + 1, n, n))\n",
    "    forest[0, :, :] = init\n",
    "\n",
    "    # Burn the center\n",
    "    forest[0, n // 2, n // 2] = BURNING\n",
    "\n",
    "    # Count the trees\n",
    "    before_trees = np.sum(forest[0, :, :] == TREE)\n",
    "    # print(f\"Before trees: {before_trees}\")\n",
    "\n",
    "    for time in range(1, t + 1):\n",
    "        forest[time, :, :] = forest[time - 1, :, :].copy()\n",
    "        # Count the trees\n",
    "        # print(f\"Trees at time {time}: {np.sum(forest[time, :, :] == TREE)}\")\n",
    "        \n",
    "        for i in range(0, n):\n",
    "            for j in range(0, n):\n",
    "                if (forest[time - 1, i, j] >= BURNING and forest[time - 1, i, j] < BURNING_MAX):\n",
    "                    forest[time, i, j] = forest[time - 1, i, j] + 1\n",
    "                if (forest[time, i, j] == TREE):\n",
    "                    # Define North, South, West, East\n",
    "                    north = forest[time - 1, i - 1, j]\n",
    "                    south = forest[time - 1, i + 1, j]\n",
    "                    west = forest[time - 1, i, j - 1]\n",
    "                    east = forest[time - 1, i, j + 1]\n",
    "\n",
    "                    # Burn with probability if there is a burning tree\n",
    "                    if (north == BURNING or south == BURNING or west == BURNING or east == BURNING):\n",
    "                        if (random() < fireProbability):\n",
    "                            forest[time, i, j] = BURNING\n",
    "                if (forest[time - 1, i, j] >= BURNING_MAX):\n",
    "                    forest[time, i, j] = EMPTY\n",
    "    \n",
    "    # Draw\n",
    "    drawing(grids=forest, save=save)\n",
    "\n",
    "    # Count the remaining trees\n",
    "    after_trees = np.sum(forest[t, :, :] == TREE)\n",
    "    # print(f\"After trees: {after_trees}\")\n",
    "\n",
    "    # Count the percentage of trees burned\n",
    "    burned_percentage = (before_trees - after_trees) / before_trees * 100\n",
    "    # Percentage max 2 decimals\n",
    "    burned_percentage = round(burned_percentage, 2)\n",
    "    # return forest"
   ]
  },
  {
   "cell_type": "markdown",
   "metadata": {},
   "source": [
    "## Initialize Size and Time"
   ]
  },
  {
   "cell_type": "code",
   "execution_count": 148,
   "metadata": {},
   "outputs": [],
   "source": [
    "# Initialize the Forest\n",
    "n = 17\n",
    "t = 8\n",
    "x = 1\n"
   ]
  },
  {
   "cell_type": "markdown",
   "metadata": {},
   "source": [
    "## Calculate Each Probabilty"
   ]
  },
  {
   "cell_type": "code",
   "execution_count": 149,
   "metadata": {},
   "outputs": [],
   "source": [
    "# Run the Simulation\n",
    "# ptg = burningForestRepeat(forest_span=n, t=t, fireProbability=0.1, x=x)\n",
    "# # grid_ani = drawing(grids)\n",
    "# # HTML(grid_ani.to_html5_video())\n",
    "# print(f\"Percentage: {ptg}\")"
   ]
  },
  {
   "cell_type": "code",
   "execution_count": 160,
   "metadata": {},
   "outputs": [
    {
     "data": {
      "image/png": "[encoded data removed]",
      "text/plain": [
       "<Figure size 640x480 with 1 Axes>"
      ]
     },
     "metadata": {},
     "output_type": "display_data"
    },
    {
     "data": {
      "text/html": [
       "<video width=\"640\" height=\"480\" controls autoplay loop>\n",
       "  <source type=\"video/mp4\" src=\"data:video/mp4;base64,AAAAHGZ0eXBNNFYgAAACAGlzb21pc28yYXZjMQAAAAhmcmVlAAAJHG1kYXQAAAKtBgX//6ncRem9\n",
       "5tlIt5Ys2CDZI+7veDI2NCAtIGNvcmUgMTU1IHIyOTE3IDBhODRkOTggLSBILjI2NC9NUEVHLTQg\n",
       "QVZDIGNvZGVjIC0gQ29weWxlZnQgMjAwMy0yMDE4IC0gaHR0cDovL3d3dy52aWRlb2xhbi5vcmcv\n",
       "eDI2NC5odG1sIC0gb3B0aW9uczogY2FiYWM9MSByZWY9MyBkZWJsb2NrPTE6MDowIGFuYWx5c2U9\n",
       "MHgzOjB4MTEzIG1lPWhleCBzdWJtZT03IHBzeT0xIHBzeV9yZD0xLjAwOjAuMDAgbWl4ZWRfcmVm\n",
       "PTEgbWVfcmFuZ2U9MTYgY2hyb21hX21lPTEgdHJlbGxpcz0xIDh4OGRjdD0xIGNxbT0wIGRlYWR6\n",
       "b25lPTIxLDExIGZhc3RfcHNraXA9MSBjaHJvbWFfcXBfb2Zmc2V0PS0yIHRocmVhZHM9NiBsb29r\n",
       "YWhlYWRfdGhyZWFkcz0xIHNsaWNlZF90aHJlYWRzPTAgbnI9MCBkZWNpbWF0ZT0xIGludGVybGFj\n",
       "ZWQ9MCBibHVyYXlfY29tcGF0PTAgY29uc3RyYWluZWRfaW50cmE9MCBiZnJhbWVzPTMgYl9weXJh\n",
       "bWlkPTIgYl9hZGFwdD0xIGJfYmlhcz0wIGRpcmVjdD0xIHdlaWdodGI9MSBvcGVuX2dvcD0wIHdl\n",
       "aWdodHA9MiBrZXlpbnQ9MjUwIGtleWludF9taW49MiBzY2VuZWN1dD00MCBpbnRyYV9yZWZyZXNo\n",
       "PTAgcmNfbG9va2FoZWFkPTQwIHJjPWNyZiBtYnRyZWU9MSBjcmY9MjMuMCBxY29tcD0wLjYwIHFw\n",
       "bWluPTAgcXBtYXg9NjkgcXBzdGVwPTQgaXBfcmF0aW89MS40MCBhcT0xOjEuMDAAgAAAAh1liIQA\n",
       "Fv/+99M/zLLr9zm146j3op4mX0N1JQGblsTtOoAAAAMAAAMAAB68FghEPzIoq68AAAMAyoAXqEf/\n",
       "CmJggBtCNXgiHJW7l5F8BR8c/OhI1Kpeq2J2UMbH8wCmlACD7h5+s7WhMS5Q+Dtkx+YEjXzCHW4Z\n",
       "U2o4Yph2gI+3Z/8D8X/BkYqoegU3v9F8rcq9arVWBGgZ33qd2RUgpfzABLgNuXL2O6tnCl5odqtE\n",
       "DkbILN81LIB5n1X4ALMa6WTFXmP3Jxu5mIQMikr2qg21PcprVTx3VhwWY4BZLCFeY9aHUVnuv3Hb\n",
       "SszFZ5AvO6M7DRFOt7NEdLTN+Iv5NdIf9niUHf0e3HlJa/2qRvq2eYu5GBBOvcPHr2RT1o9Pf9vS\n",
       "ivrTFapHyUwQmx4KsPcafEEUt/cHP87Sro8vH+fz1gvMtUyJbkgiK/Wg1vnCHuTFY9iMpUu+v3Qm\n",
       "PCM/Xy9QFrwA/pDFu7Ve2vQOT/eZYQaW6HWNshehSLyRVdS+jOqYYxCbVqWwXcTbHt+5FaZc5YG2\n",
       "17IMdvYuRM9ndSgAmWgEzOQmeUE0Mgmk2E1AwnCbejsBZX2fCrDi8NmoeHlbmo2L2RgiwtF8YlSS\n",
       "Yg6XDVVXnXfqcOeqCgEv7fNIxVw0yFWD2fDa64Fi/ZgCpraUNGd5TkxHItQy84RW+mpNp4WVLoIl\n",
       "rO5PbiEsU8sy2X70R2BHHPugGAAAAwFbAAAB5EGaImKIgqAScD4AhAGMAikFv6px/ZOcCmpkw7JQ\n",
       "tV/Vux6+S4HMXPIYvNssFKHGm/++tIpHIVqw6Q6aRkbs0sDAAAuIBmrxvtgBB5VTL99I4QCA4LcG\n",
       "l51OwbKWoVUBV/H/YWBWpT/OT0e/7t+zFO4IWTLAqNAFT18YSFwiPpzjWgeQhwBAwcGZjUomkCyA\n",
       "A/auF6r/MwXbYHa/stHaRsZ6TmRKcaQCcawCcbv9AGRdAHRdANd3/8gsEa3b0vgqFeNfPRx08c31\n",
       "Rp0Mz7EUSEO6us0bbE8/1yf9s1EeUdNyUjaigQY8bLl6tEjOmlvsy/fqWngHNL7LPT7Ucg4ZHSrC\n",
       "fhvK3pqot4qSgkU+dJRi9aPvCb7QKAYezmjQygqTOJElKdKJG0GAXJeu8QhhO66CPMLo7FG0dGuk\n",
       "0Bc+IcG1pcG/dtZ8MeZ+CuTMSNBXVU+1AH4No4qiwGbmI0NCPaqtyLOjSvOiDboV0KrgSV1lJyAN\n",
       "Gt3NozUufZuLo6SMj0yIhMKNDe9qcISb1v9moumgLgAORdRSXAGei6pmuBfb1EcYuMbS+s4Tlw4+\n",
       "OXrU8GVvJfYa7W/DDPZS094PxvJNS/sn/8D7a0iWIDpnDZ/yOK+ANETE47uDAWcA39lshAAAERAA\n",
       "AAA/AZ5BeQS/AAJKGB065pUo3saFsfAAAA+y/dalU+cxrv5mY6ENGbkhwbLgAc8/5Ws6Kh0piZhw\n",
       "pK2Of9gyqzZRAAABTEGaRjwhkymEFP/+1oywATHn//hR14ALM0aXwj78nGrrbW6L2Av6SJLuMhmd\n",
       "7vm48yju1Q1fcY2m090R9F3JQ2eBNVAXwjRP8y0KxRqBTJ/bs0ydTCHRPWI55FUD1zKx1kla7bVA\n",
       "Tr6SFNFiHga3tYf4gWgj0mapescl3DnHrjztXRDkFI4/ks39ULc2gqOVAA5lPaDWS5D7GIIAAAMA\n",
       "AAMCIWJgZUX4M6U4cH/qe72xDhxImUKC0KRQcBb7Hlixw4qFD17pNPCyJHOx816nhkAU7zid5xu8\n",
       "43ecjvOR3nK7zld5zO85niIPCgp1dcMI63xySzIYaVYRcx3ZApNTC6u49Faa2O0/bx2AtEvqi7K9\n",
       "mW//GFcz993KA6qN10wCsD+1ttRgAln5Ae+YWFvvdEJ9eo7bQIiX0+iqMe13RahcOBh7+W6O7ery\n",
       "QCLgAAAAQkGeZGpTwU8AANJkHeHIUYndF0bQ71VVtD5WC6IrPqJz2/Oa4yb+2qZdIjDeJLOC0k76\n",
       "jQvvl/FyEZDjDjwpfXMumwAAADUBnoN0QS8AAkohzcabCUokE+h0ttgAAAMAUlp3WpVPfoohSK/M\n",
       "kk0EHONeALzfrfRFDaqNgQAAABEBnoVqQS8AAAMAAAMAAAMC2wAAABpBmohJqEFomUwU8Ev//rUq\n",
       "gAAAAwAAAwAFxQAAABEBnqdqQS8AAAMAAAMAAAMC2gAAA5ptb292AAAAbG12aGQAAAAAAAAAAAAA\n",
       "AAAAAAPoAAARlAABAAABAAAAAAAAAAAAAAAAAQAAAAAAAAAAAAAAAAAAAAEAAAAAAAAAAAAAAAAA\n",
       "AEAAAAAAAAAAAAAAAAAAAAAAAAAAAAAAAAAAAAAAAAACAAACxHRyYWsAAABcdGtoZAAAAAMAAAAA\n",
       "AAAAAAAAAAEAAAAAAAARlAAAAAAAAAAAAAAAAAAAAAAAAQAAAAAAAAAAAAAAAAAAAAEAAAAAAAAA\n",
       "AAAAAAAAAEAAAAACgAAAAeAAAAAAACRlZHRzAAAAHGVsc3QAAAAAAAAAAQAAEZQAAEAAAAEAAAAA\n",
       "AjxtZGlhAAAAIG1kaGQAAAAAAAAAAAAAAAAAAEAAAAEgAFXEAAAAAAAtaGRscgAAAAAAAAAAdmlk\n",
       "ZQAAAAAAAAAAAAAAAFZpZGVvSGFuZGxlcgAAAAHnbWluZgAAABR2bWhkAAAAAQAAAAAAAAAAAAAA\n",
       "JGRpbmYAAAAcZHJlZgAAAAAAAAABAAAADHVybCAAAAABAAABp3N0YmwAAACzc3RzZAAAAAAAAAAB\n",
       "AAAAo2F2YzEAAAAAAAAAAQAAAAAAAAAAAAAAAAAAAAACgAHgAEgAAABIAAAAAAAAAAEAAAAAAAAA\n",
       "AAAAAAAAAAAAAAAAAAAAAAAAAAAAAAAAAAAY//8AAAAxYXZjQwFkABb/4QAYZ2QAFqzZQKA9oQAA\n",
       "AwABAAADAAQPFi2WAQAGaOvjyyLAAAAAHHV1aWRraEDyXyRPxbo5pRvPAyPzAAAAAAAAABhzdHRz\n",
       "AAAAAAAAAAEAAAAJAAAgAAAAABRzdHNzAAAAAAAAAAEAAAABAAAAWGN0dHMAAAAAAAAACQAAAAEA\n",
       "AEAAAAAAAQAAYAAAAAABAAAgAAAAAAEAAKAAAAAAAQAAQAAAAAABAAAAAAAAAAEAACAAAAAAAQAA\n",
       "YAAAAAABAAAgAAAAABxzdHNjAAAAAAAAAAEAAAABAAAACQAAAAEAAAA4c3RzegAAAAAAAAAAAAAA\n",
       "CQAABNIAAAHoAAAAQwAAAVAAAABGAAAAOQAAABUAAAAeAAAAFQAAABRzdGNvAAAAAAAAAAEAAAAs\n",
       "AAAAYnVkdGEAAABabWV0YQAAAAAAAAAhaGRscgAAAAAAAAAAbWRpcmFwcGwAAAAAAAAAAAAAAAAt\n",
       "aWxzdAAAACWpdG9vAAAAHWRhdGEAAAABAAAAAExhdmY1OC4yOS4xMDA=\n",
       "\">\n",
       "  Your browser does not support the video tag.\n",
       "</video>"
      ],
      "text/plain": [
       "<IPython.core.display.HTML object>"
      ]
     },
     "execution_count": 160,
     "metadata": {},
     "output_type": "execute_result"
    }
   ],
   "source": [
    "# Run the Simulation\n",
    "burningForest(forest_span=n, t=t, fireProbability=1, save=True)\n",
    "HTML(grid_ani.to_html5_video())\n",
    "# print(f\"Percentage: {ptg}\")"
   ]
  },
  {
   "cell_type": "code",
   "execution_count": 159,
   "metadata": {},
   "outputs": [
    {
     "data": {
      "image/png": "[encoded data removed]",
      "text/plain": [
       "<Figure size 640x480 with 1 Axes>"
      ]
     },
     "metadata": {},
     "output_type": "display_data"
    },
    {
     "name": "stdout",
     "output_type": "stream",
     "text": [
      "Percentage: None\n"
     ]
    }
   ],
   "source": [
    "# Run the Simulation\n",
    "ptg = burningForest(forest_span=n, t=t, fireProbability=0.3)\n",
    "HTML(grid_ani.to_html5_video())\n",
    "print(f\"Percentage: {ptg}\")"
   ]
  },
  {
   "cell_type": "code",
   "execution_count": null,
   "metadata": {},
   "outputs": [
    {
     "data": {
      "image/png": "[encoded data removed]",
      "text/plain": [
       "<Figure size 640x480 with 1 Axes>"
      ]
     },
     "metadata": {},
     "output_type": "display_data"
    },
    {
     "name": "stdout",
     "output_type": "stream",
     "text": [
      "Percentage: 45.49\n"
     ]
    }
   ],
   "source": [
    "# Run the Simulation\n",
    "ptg = burningForest(forest_span=n, t=t, fireProbability=0.4)\n",
    "HTML(grid_ani.to_html5_video())\n",
    "print(f\"Percentage: {ptg}\")"
   ]
  },
  {
   "cell_type": "code",
   "execution_count": null,
   "metadata": {},
   "outputs": [
    {
     "data": {
      "image/png": "[encoded data removed]",
      "text/plain": [
       "<Figure size 640x480 with 1 Axes>"
      ]
     },
     "metadata": {},
     "output_type": "display_data"
    },
    {
     "name": "stdout",
     "output_type": "stream",
     "text": [
      "Percentage: 53.82\n"
     ]
    }
   ],
   "source": [
    "# Run the Simulation\n",
    "ptg = burningForest(forest_span=n, t=t, fireProbability=0.5)\n",
    "HTML(grid_ani.to_html5_video())\n",
    "print(f\"Percentage: {ptg}\")"
   ]
  },
  {
   "cell_type": "code",
   "execution_count": null,
   "metadata": {},
   "outputs": [
    {
     "data": {
      "image/png": "[encoded data removed]",
      "text/plain": [
       "<Figure size 640x480 with 1 Axes>"
      ]
     },
     "metadata": {},
     "output_type": "display_data"
    },
    {
     "name": "stdout",
     "output_type": "stream",
     "text": [
      "Percentage: 70.49\n"
     ]
    }
   ],
   "source": [
    "# Run the Simulation\n",
    "ptg = burningForest(forest_span=n, t=t, fireProbability=0.6)\n",
    "HTML(grid_ani.to_html5_video())\n",
    "print(f\"Percentage: {ptg}\")"
   ]
  },
  {
   "cell_type": "code",
   "execution_count": null,
   "metadata": {},
   "outputs": [
    {
     "data": {
      "image/png": "[encoded data removed]",
      "text/plain": [
       "<Figure size 640x480 with 1 Axes>"
      ]
     },
     "metadata": {},
     "output_type": "display_data"
    },
    {
     "name": "stdout",
     "output_type": "stream",
     "text": [
      "Percentage: 80.21\n"
     ]
    }
   ],
   "source": [
    "# Run the Simulation\n",
    "ptg = burningForest(forest_span=n, t=t, fireProbability=0.7)\n",
    "HTML(grid_ani.to_html5_video())\n",
    "print(f\"Percentage: {ptg}\")"
   ]
  },
  {
   "cell_type": "code",
   "execution_count": null,
   "metadata": {},
   "outputs": [
    {
     "data": {
      "image/png": "[encoded data removed]",
      "text/plain": [
       "<Figure size 640x480 with 1 Axes>"
      ]
     },
     "metadata": {},
     "output_type": "display_data"
    },
    {
     "name": "stdout",
     "output_type": "stream",
     "text": [
      "Percentage: 78.12\n"
     ]
    }
   ],
   "source": [
    "# Run the Simulation\n",
    "ptg = burningForest(forest_span=n, t=t, fireProbability=0.8)\n",
    "HTML(grid_ani.to_html5_video())\n",
    "print(f\"Percentage: {ptg}\")"
   ]
  },
  {
   "cell_type": "code",
   "execution_count": null,
   "metadata": {},
   "outputs": [
    {
     "data": {
      "image/png": "[encoded data removed]",
      "text/plain": [
       "<Figure size 640x480 with 1 Axes>"
      ]
     },
     "metadata": {},
     "output_type": "display_data"
    },
    {
     "name": "stdout",
     "output_type": "stream",
     "text": [
      "Percentage: 82.99\n"
     ]
    }
   ],
   "source": [
    "# Run the Simulation\n",
    "ptg = burningForest(forest_span=n, t=t, fireProbability=0.9)\n",
    "HTML(grid_ani.to_html5_video())\n",
    "print(f\"Percentage: {ptg}\")"
   ]
  }
 ],
 "metadata": {
  "kernelspec": {
   "display_name": "Python 3",
   "language": "python",
   "name": "python3"
  },
  "language_info": {
   "codemirror_mode": {
    "name": "ipython",
    "version": 3
   },
   "file_extension": ".py",
   "mimetype": "text/x-python",
   "name": "python",
   "nbconvert_exporter": "python",
   "pygments_lexer": "ipython3",
   "version": "3.8.10"
  }
 },
 "nbformat": 4,
 "nbformat_minor": 2
}
