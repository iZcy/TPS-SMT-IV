{
 "cells": [
  {
   "cell_type": "markdown",
   "metadata": {},
   "source": [
    "# iZcyBurningForest\n",
    "## Config Initialization"
   ]
  },
  {
   "cell_type": "code",
   "execution_count": 201,
   "metadata": {},
   "outputs": [
    {
     "name": "stdout",
     "output_type": "stream",
     "text": [
      "Requirement already satisfied: matplotlib in /home/izcy/.local/lib/python3.8/site-packages (3.7.5)\n",
      "Requirement already satisfied: kiwisolver>=1.0.1 in /home/izcy/.local/lib/python3.8/site-packages (from matplotlib) (1.4.5)\n",
      "Requirement already satisfied: packaging>=20.0 in /home/izcy/.local/lib/python3.8/site-packages (from matplotlib) (24.0)\n",
      "Requirement already satisfied: pillow>=6.2.0 in /usr/lib/python3/dist-packages (from matplotlib) (7.0.0)\n",
      "Requirement already satisfied: contourpy>=1.0.1 in /home/izcy/.local/lib/python3.8/site-packages (from matplotlib) (1.1.1)\n",
      "Requirement already satisfied: importlib-resources>=3.2.0; python_version < \"3.10\" in /home/izcy/.local/lib/python3.8/site-packages (from matplotlib) (6.4.0)\n",
      "Requirement already satisfied: cycler>=0.10 in /home/izcy/.local/lib/python3.8/site-packages (from matplotlib) (0.12.1)\n",
      "Requirement already satisfied: fonttools>=4.22.0 in /home/izcy/.local/lib/python3.8/site-packages (from matplotlib) (4.51.0)\n",
      "Requirement already satisfied: python-dateutil>=2.7 in /home/izcy/.local/lib/python3.8/site-packages (from matplotlib) (2.9.0.post0)\n",
      "Requirement already satisfied: numpy<2,>=1.20 in /home/izcy/.local/lib/python3.8/site-packages (from matplotlib) (1.24.4)\n",
      "Requirement already satisfied: pyparsing>=2.3.1 in /home/izcy/.local/lib/python3.8/site-packages (from matplotlib) (3.1.2)\n",
      "Requirement already satisfied: zipp>=3.1.0; python_version < \"3.10\" in /home/izcy/.local/lib/python3.8/site-packages (from importlib-resources>=3.2.0; python_version < \"3.10\"->matplotlib) (3.18.1)\n",
      "Requirement already satisfied: six>=1.5 in /usr/lib/python3/dist-packages (from python-dateutil>=2.7->matplotlib) (1.14.0)\n",
      "Note: you may need to restart the kernel to use updated packages.\n"
     ]
    }
   ],
   "source": [
    "%pip install matplotlib\n",
    "# also do: sudo apt-get install ffmpeg"
   ]
  },
  {
   "cell_type": "markdown",
   "metadata": {},
   "source": [
    "## Initialize Packages"
   ]
  },
  {
   "cell_type": "code",
   "execution_count": 202,
   "metadata": {},
   "outputs": [],
   "source": [
    "import numpy as np\n",
    "import matplotlib\n",
    "import matplotlib.pyplot as plt\n",
    "import matplotlib.image as mpimg\n",
    "import matplotlib.animation as animation\n",
    "from IPython.display import HTML  # for embedded matplotlib animation\n",
    "from math import *\n",
    "from random import *\n",
    "import time\n",
    "\n",
    "matplotlib.rc('animation', html='html5')\n",
    "Writer = animation.writers['ffmpeg']\n",
    "writer = Writer(fps=15, metadata=dict(artist='Me'), bitrate=1800)"
   ]
  },
  {
   "cell_type": "markdown",
   "metadata": {},
   "source": [
    "## Cleaning .mp4"
   ]
  },
  {
   "cell_type": "code",
   "execution_count": 203,
   "metadata": {},
   "outputs": [],
   "source": [
    "import os\n",
    "\n",
    "def delete_mp4_files(directory):\n",
    "    # Iterate over all files in the directory\n",
    "    for filename in os.listdir(directory):\n",
    "        # Check if the file ends with '.mp4'\n",
    "        if filename.endswith(\".mp4\"):\n",
    "            # Construct the full path to the file\n",
    "            file_path = os.path.join(directory, filename)\n",
    "            # Delete the file\n",
    "            os.remove(file_path)\n",
    "            print(f\"Deleted: {file_path}\")\n",
    "\n",
    "# Get the current directory\n",
    "current_directory = os.getcwd()\n",
    "\n",
    "# Call the function to delete .mp4 files in the current directory\n",
    "delete_mp4_files(current_directory)\n"
   ]
  },
  {
   "cell_type": "markdown",
   "metadata": {},
   "source": [
    "## Defining States"
   ]
  },
  {
   "cell_type": "code",
   "execution_count": 204,
   "metadata": {},
   "outputs": [],
   "source": [
    "## Define States\n",
    "global EMPTY, TREE, BURNING, BURNING_MAX\n",
    "EMPTY = 0\n",
    "TREE = 1\n",
    "BURNING = 2\n",
    "BURNING_MAX = 3\n",
    "\n",
    "global grid_ani"
   ]
  },
  {
   "cell_type": "markdown",
   "metadata": {},
   "source": [
    "## Colouring"
   ]
  },
  {
   "cell_type": "code",
   "execution_count": 205,
   "metadata": {},
   "outputs": [],
   "source": [
    "def makeColorGrid(grid):\n",
    "    n = grid.shape[0]\n",
    "    colorGrid = np.zeros((n, n, 3))\n",
    "    colorGrid[:, :, 0] = 1\n",
    "    colorGrid[:, :, 1] = 1\n",
    "    for i in range(0, n):\n",
    "        for j in range(0, n):\n",
    "            if (grid[i, j] == TREE):\n",
    "                colorGrid[i, j, 0] = 0.1\n",
    "                colorGrid[i, j, 1] = 0.75\n",
    "                colorGrid[i, j, 2] = 0.02\n",
    "            if (grid[i, j] >= BURNING and grid[i, j] <= BURNING_MAX):\n",
    "                colorGrid[i, j, 0] = 0.6\n",
    "                colorGrid[i, j, 1] = 0.2\n",
    "                colorGrid[i, j, 2] = 0.1\n",
    "    return colorGrid"
   ]
  },
  {
   "cell_type": "markdown",
   "metadata": {},
   "source": [
    "## Drawing"
   ]
  },
  {
   "cell_type": "code",
   "execution_count": 206,
   "metadata": {},
   "outputs": [],
   "source": [
    "def drawing(grids, save=False):\n",
    "    # Execute\n",
    "    fig = plt.figure()\n",
    "    plt.axis('off')\n",
    "    im = plt.imshow(makeColorGrid(grids[0,:,:]), animated=True)\n",
    "\n",
    "    # The animation function: called to produce a frame for each generation.\n",
    "    def updatefig(i, *args):\n",
    "        im.set_array(makeColorGrid(grids[i,:,:]))\n",
    "        return im\n",
    "\n",
    "    global grid_ani\n",
    "    grid_ani = animation.FuncAnimation(\n",
    "        fig, updatefig, save_count = len(grids), interval=500, blit=False)\n",
    "    plt.show()\n",
    "\n",
    "    # Get current time in seconds since the epoch\n",
    "    current_time = int(time.time())\n",
    "\n",
    "    # To save the animation, use the command, placed before HTML:\n",
    "    if save:\n",
    "        grid_ani.save(f'Fire {current_time}.mp4', writer=writer)"
   ]
  },
  {
   "cell_type": "markdown",
   "metadata": {},
   "source": [
    "## Initialize the Forest"
   ]
  },
  {
   "cell_type": "code",
   "execution_count": 207,
   "metadata": {},
   "outputs": [],
   "source": [
    "def initForest(n):\n",
    "    forest = np.zeros((n, n))\n",
    "    for i in range(0, n):\n",
    "        for j in range(0, n):\n",
    "            forest[i, j] = TREE\n",
    "    return forest"
   ]
  },
  {
   "cell_type": "markdown",
   "metadata": {},
   "source": [
    "## Burn the Forest into Grids"
   ]
  },
  {
   "cell_type": "code",
   "execution_count": 208,
   "metadata": {},
   "outputs": [],
   "source": [
    "def burningForest(forest_span, t, fireProbability, save=False):\n",
    "    n = forest_span\n",
    "    init = initForest(n)\n",
    "\n",
    "    forest = np.zeros((t + 1, n, n))\n",
    "    forest[0, :, :] = init\n",
    "\n",
    "    # Burn the center\n",
    "    forest[0, n // 2, n // 2] = BURNING\n",
    "\n",
    "    # Count the trees\n",
    "    before_trees = np.sum(forest[0, :, :] == TREE)\n",
    "    # print(f\"Before trees: {before_trees}\")\n",
    "\n",
    "    for time in range(1, t + 1):\n",
    "        forest[time, :, :] = forest[time - 1, :, :].copy()\n",
    "        # Count the trees\n",
    "        # print(f\"Trees at time {time}: {np.sum(forest[time, :, :] == TREE)}\")\n",
    "        \n",
    "        for i in range(0, n):\n",
    "            for j in range(0, n):\n",
    "                if (forest[time - 1, i, j] >= BURNING and forest[time - 1, i, j] < BURNING_MAX):\n",
    "                    forest[time, i, j] = forest[time - 1, i, j] + 1\n",
    "                if (forest[time, i, j] == TREE):\n",
    "                    # Define North, South, West, East\n",
    "                    north = forest[time - 1, i - 1, j] if i > 0 else EMPTY\n",
    "                    south = forest[time - 1, i + 1, j] if i < n - 1 else EMPTY\n",
    "                    west = forest[time - 1, i, j - 1] if j > 0 else EMPTY\n",
    "                    east = forest[time - 1, i, j + 1] if j < n - 1 else EMPTY\n",
    "\n",
    "                    # Burn with probability if there is a burning tree\n",
    "                    if (north == BURNING or south == BURNING or west == BURNING or east == BURNING):\n",
    "                        if (random() < fireProbability):\n",
    "                            forest[time, i, j] = BURNING\n",
    "                if (forest[time - 1, i, j] >= BURNING_MAX):\n",
    "                    forest[time, i, j] = EMPTY\n",
    "    \n",
    "    # Draw\n",
    "    drawing(grids=forest, save=save)\n",
    "\n",
    "    # Count the remaining trees\n",
    "    after_trees = np.sum(forest[t, :, :] == TREE)\n",
    "    # print(f\"After trees: {after_trees}\")\n",
    "\n",
    "    # Count the percentage of trees burned\n",
    "    burned_percentage = (before_trees - after_trees) / before_trees * 100\n",
    "    # Percentage max 2 decimals\n",
    "    burned_percentage = round(burned_percentage, 2)\n",
    "    # return burned_percentage"
   ]
  },
  {
   "cell_type": "markdown",
   "metadata": {},
   "source": [
    "## Initialize Size and Time"
   ]
  },
  {
   "cell_type": "code",
   "execution_count": 209,
   "metadata": {},
   "outputs": [],
   "source": [
    "# Initialize the Forest\n",
    "n = 17\n",
    "t = 12\n",
    "x = 1\n"
   ]
  },
  {
   "cell_type": "markdown",
   "metadata": {},
   "source": [
    "## Calculate Each Probabilty"
   ]
  },
  {
   "cell_type": "code",
   "execution_count": 210,
   "metadata": {},
   "outputs": [],
   "source": [
    "# Run the Simulation\n",
    "# ptg = burningForestRepeat(forest_span=n, t=t, fireProbability=0.1, x=x)\n",
    "# # grid_ani = drawing(grids)\n",
    "# # HTML(grid_ani.to_html5_video())\n",
    "# print(f\"Percentage: {ptg}\")"
   ]
  },
  {
   "cell_type": "code",
   "execution_count": 219,
   "metadata": {},
   "outputs": [
    {
     "name": "stderr",
     "output_type": "stream",
     "text": [
      "/home/izcy/.local/lib/python3.8/site-packages/matplotlib/animation.py:884: UserWarning: Animation was deleted without rendering anything. This is most likely not intended. To prevent deletion, assign the Animation to a variable, e.g. `anim`, that exists until you output the Animation using `plt.show()` or `anim.save()`.\n",
      "  warnings.warn(\n"
     ]
    },
    {
     "ename": "TypeError",
     "evalue": "object FuncAnimation can't be used in 'await' expression",
     "output_type": "error",
     "traceback": [
      "\u001b[0;31m---------------------------------------------------------------------------\u001b[0m",
      "\u001b[0;31mTypeError\u001b[0m                                 Traceback (most recent call last)",
      "Cell \u001b[0;32mIn[219], line 2\u001b[0m\n\u001b[1;32m      1\u001b[0m \u001b[38;5;66;03m# Run the Simulation\u001b[39;00m\n\u001b[0;32m----> 2\u001b[0m \u001b[38;5;28;01mawait\u001b[39;00m burningForest(forest_span\u001b[38;5;241m=\u001b[39mn, t\u001b[38;5;241m=\u001b[39mt, fireProbability\u001b[38;5;241m=\u001b[39m\u001b[38;5;241m0.2\u001b[39m)\n\u001b[1;32m      3\u001b[0m HTML(grid_ani\u001b[38;5;241m.\u001b[39mto_html5_video())\n",
      "Cell \u001b[0;32mIn[208], line 39\u001b[0m, in \u001b[0;36mburningForest\u001b[0;34m(forest_span, t, fireProbability, save)\u001b[0m\n\u001b[1;32m     36\u001b[0m                 forest[time, i, j] \u001b[38;5;241m=\u001b[39m EMPTY\n\u001b[1;32m     38\u001b[0m \u001b[38;5;66;03m# Draw\u001b[39;00m\n\u001b[0;32m---> 39\u001b[0m \u001b[38;5;28;01mawait\u001b[39;00m drawing(grids\u001b[38;5;241m=\u001b[39mforest, save\u001b[38;5;241m=\u001b[39msave)\n\u001b[1;32m     41\u001b[0m \u001b[38;5;66;03m# Count the remaining trees\u001b[39;00m\n\u001b[1;32m     42\u001b[0m after_trees \u001b[38;5;241m=\u001b[39m np\u001b[38;5;241m.\u001b[39msum(forest[t, :, :] \u001b[38;5;241m==\u001b[39m TREE)\n",
      "Cell \u001b[0;32mIn[206], line 13\u001b[0m, in \u001b[0;36mdrawing\u001b[0;34m(grids, save)\u001b[0m\n\u001b[1;32m     10\u001b[0m     \u001b[38;5;28;01mreturn\u001b[39;00m im\n\u001b[1;32m     12\u001b[0m \u001b[38;5;28;01mglobal\u001b[39;00m grid_ani\n\u001b[0;32m---> 13\u001b[0m grid_ani \u001b[38;5;241m=\u001b[39m \u001b[38;5;28;01mawait\u001b[39;00m animation\u001b[38;5;241m.\u001b[39mFuncAnimation(\n\u001b[1;32m     14\u001b[0m     fig, updatefig, save_count \u001b[38;5;241m=\u001b[39m \u001b[38;5;28mlen\u001b[39m(grids), interval\u001b[38;5;241m=\u001b[39m\u001b[38;5;241m500\u001b[39m, blit\u001b[38;5;241m=\u001b[39m\u001b[38;5;28;01mFalse\u001b[39;00m)\n\u001b[1;32m     15\u001b[0m plt\u001b[38;5;241m.\u001b[39mshow()\n\u001b[1;32m     17\u001b[0m \u001b[38;5;66;03m# Get current time in seconds since the epoch\u001b[39;00m\n",
      "\u001b[0;31mTypeError\u001b[0m: object FuncAnimation can't be used in 'await' expression"
     ]
    },
    {
     "data": {
      "image/png": "[encoded data removed]",
      "text/plain": [
       "<Figure size 640x480 with 1 Axes>"
      ]
     },
     "metadata": {},
     "output_type": "display_data"
    }
   ],
   "source": [
    "# Run the Simulation\n",
    "burningForest(forest_span=n, t=t, fireProbability=0.2)\n",
    "HTML(grid_ani.to_html5_video())"
   ]
  },
  {
   "cell_type": "code",
   "execution_count": 212,
   "metadata": {},
   "outputs": [
    {
     "name": "stdout",
     "output_type": "stream",
     "text": [
      "Percentage: <coroutine object burningForest at 0x7f6f24642540>\n"
     ]
    }
   ],
   "source": [
    "# Run the Simulation\n",
    "ptg = burningForest(forest_span=n, t=t, fireProbability=0.3)\n",
    "HTML(grid_ani.to_html5_video())\n",
    "print(f\"Percentage: {ptg}\")"
   ]
  },
  {
   "cell_type": "code",
   "execution_count": 213,
   "metadata": {},
   "outputs": [
    {
     "name": "stdout",
     "output_type": "stream",
     "text": [
      "Percentage: <coroutine object burningForest at 0x7f6f24642340>\n"
     ]
    },
    {
     "name": "stderr",
     "output_type": "stream",
     "text": [
      "/tmp/ipykernel_5020/3227031294.py:2: RuntimeWarning: coroutine 'burningForest' was never awaited\n",
      "  ptg = burningForest(forest_span=n, t=t, fireProbability=0.4)\n",
      "RuntimeWarning: Enable tracemalloc to get the object allocation traceback\n"
     ]
    }
   ],
   "source": [
    "# Run the Simulation\n",
    "ptg = burningForest(forest_span=n, t=t, fireProbability=0.4)\n",
    "HTML(grid_ani.to_html5_video())\n",
    "print(f\"Percentage: {ptg}\")"
   ]
  },
  {
   "cell_type": "code",
   "execution_count": 214,
   "metadata": {},
   "outputs": [
    {
     "name": "stdout",
     "output_type": "stream",
     "text": [
      "Percentage: <coroutine object burningForest at 0x7f6f24642ac0>\n"
     ]
    },
    {
     "name": "stderr",
     "output_type": "stream",
     "text": [
      "/tmp/ipykernel_5020/3372385333.py:2: RuntimeWarning: coroutine 'burningForest' was never awaited\n",
      "  ptg = burningForest(forest_span=n, t=t, fireProbability=0.5)\n",
      "RuntimeWarning: Enable tracemalloc to get the object allocation traceback\n"
     ]
    }
   ],
   "source": [
    "# Run the Simulation\n",
    "ptg = burningForest(forest_span=n, t=t, fireProbability=0.5)\n",
    "HTML(grid_ani.to_html5_video())\n",
    "print(f\"Percentage: {ptg}\")"
   ]
  },
  {
   "cell_type": "code",
   "execution_count": 215,
   "metadata": {},
   "outputs": [
    {
     "name": "stdout",
     "output_type": "stream",
     "text": [
      "Percentage: <coroutine object burningForest at 0x7f6f24642540>\n"
     ]
    },
    {
     "name": "stderr",
     "output_type": "stream",
     "text": [
      "/tmp/ipykernel_5020/3993385343.py:2: RuntimeWarning: coroutine 'burningForest' was never awaited\n",
      "  ptg = burningForest(forest_span=n, t=t, fireProbability=0.6)\n",
      "RuntimeWarning: Enable tracemalloc to get the object allocation traceback\n"
     ]
    }
   ],
   "source": [
    "# Run the Simulation\n",
    "ptg = burningForest(forest_span=n, t=t, fireProbability=0.6)\n",
    "HTML(grid_ani.to_html5_video())\n",
    "print(f\"Percentage: {ptg}\")"
   ]
  },
  {
   "cell_type": "code",
   "execution_count": 216,
   "metadata": {},
   "outputs": [
    {
     "name": "stdout",
     "output_type": "stream",
     "text": [
      "Percentage: <coroutine object burningForest at 0x7f6f24642340>\n"
     ]
    },
    {
     "name": "stderr",
     "output_type": "stream",
     "text": [
      "/tmp/ipykernel_5020/270654957.py:2: RuntimeWarning: coroutine 'burningForest' was never awaited\n",
      "  ptg = burningForest(forest_span=n, t=t, fireProbability=0.7)\n",
      "RuntimeWarning: Enable tracemalloc to get the object allocation traceback\n"
     ]
    }
   ],
   "source": [
    "# Run the Simulation\n",
    "ptg = burningForest(forest_span=n, t=t, fireProbability=0.7)\n",
    "HTML(grid_ani.to_html5_video())\n",
    "print(f\"Percentage: {ptg}\")"
   ]
  },
  {
   "cell_type": "code",
   "execution_count": 217,
   "metadata": {},
   "outputs": [
    {
     "name": "stdout",
     "output_type": "stream",
     "text": [
      "Percentage: <coroutine object burningForest at 0x7f6f24642ac0>\n"
     ]
    },
    {
     "name": "stderr",
     "output_type": "stream",
     "text": [
      "/tmp/ipykernel_5020/1136739057.py:2: RuntimeWarning: coroutine 'burningForest' was never awaited\n",
      "  ptg = burningForest(forest_span=n, t=t, fireProbability=0.8)\n",
      "RuntimeWarning: Enable tracemalloc to get the object allocation traceback\n"
     ]
    }
   ],
   "source": [
    "# Run the Simulation\n",
    "ptg = burningForest(forest_span=n, t=t, fireProbability=0.8)\n",
    "HTML(grid_ani.to_html5_video())\n",
    "print(f\"Percentage: {ptg}\")"
   ]
  },
  {
   "cell_type": "code",
   "execution_count": 218,
   "metadata": {},
   "outputs": [
    {
     "name": "stdout",
     "output_type": "stream",
     "text": [
      "Percentage: <coroutine object burningForest at 0x7f6f24642dc0>\n"
     ]
    },
    {
     "name": "stderr",
     "output_type": "stream",
     "text": [
      "/tmp/ipykernel_5020/1729080761.py:2: RuntimeWarning: coroutine 'burningForest' was never awaited\n",
      "  ptg = burningForest(forest_span=n, t=t, fireProbability=0.9)\n",
      "RuntimeWarning: Enable tracemalloc to get the object allocation traceback\n"
     ]
    }
   ],
   "source": [
    "# Run the Simulation\n",
    "ptg = burningForest(forest_span=n, t=t, fireProbability=0.9)\n",
    "HTML(grid_ani.to_html5_video())\n",
    "print(f\"Percentage: {ptg}\")"
   ]
  }
 ],
 "metadata": {
  "kernelspec": {
   "display_name": "Python 3",
   "language": "python",
   "name": "python3"
  },
  "language_info": {
   "codemirror_mode": {
    "name": "ipython",
    "version": 3
   },
   "file_extension": ".py",
   "mimetype": "text/x-python",
   "name": "python",
   "nbconvert_exporter": "python",
   "pygments_lexer": "ipython3",
   "version": "3.8.10"
  }
 },
 "nbformat": 4,
 "nbformat_minor": 2
}
