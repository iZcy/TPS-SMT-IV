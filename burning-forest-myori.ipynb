{
 "cells": [
  {
   "cell_type": "markdown",
   "metadata": {},
   "source": [
    "# iZcyBurningForest\n",
    "## Config Initialization"
   ]
  },
  {
   "cell_type": "code",
   "execution_count": 135,
   "metadata": {},
   "outputs": [
    {
     "name": "stdout",
     "output_type": "stream",
     "text": [
      "Requirement already satisfied: matplotlib in /home/izcy/.local/lib/python3.8/site-packages (3.7.5)\n",
      "Requirement already satisfied: importlib-resources>=3.2.0; python_version < \"3.10\" in /home/izcy/.local/lib/python3.8/site-packages (from matplotlib) (6.4.0)\n",
      "Requirement already satisfied: kiwisolver>=1.0.1 in /home/izcy/.local/lib/python3.8/site-packages (from matplotlib) (1.4.5)\n",
      "Requirement already satisfied: pillow>=6.2.0 in /usr/lib/python3/dist-packages (from matplotlib) (7.0.0)\n",
      "Requirement already satisfied: numpy<2,>=1.20 in /home/izcy/.local/lib/python3.8/site-packages (from matplotlib) (1.24.4)\n",
      "Requirement already satisfied: fonttools>=4.22.0 in /home/izcy/.local/lib/python3.8/site-packages (from matplotlib) (4.51.0)\n",
      "Requirement already satisfied: packaging>=20.0 in /home/izcy/.local/lib/python3.8/site-packages (from matplotlib) (24.0)\n",
      "Requirement already satisfied: pyparsing>=2.3.1 in /home/izcy/.local/lib/python3.8/site-packages (from matplotlib) (3.1.2)\n",
      "Requirement already satisfied: contourpy>=1.0.1 in /home/izcy/.local/lib/python3.8/site-packages (from matplotlib) (1.1.1)\n",
      "Requirement already satisfied: cycler>=0.10 in /home/izcy/.local/lib/python3.8/site-packages (from matplotlib) (0.12.1)\n",
      "Requirement already satisfied: python-dateutil>=2.7 in /home/izcy/.local/lib/python3.8/site-packages (from matplotlib) (2.9.0.post0)\n",
      "Requirement already satisfied: zipp>=3.1.0; python_version < \"3.10\" in /home/izcy/.local/lib/python3.8/site-packages (from importlib-resources>=3.2.0; python_version < \"3.10\"->matplotlib) (3.18.1)\n",
      "Requirement already satisfied: six>=1.5 in /usr/lib/python3/dist-packages (from python-dateutil>=2.7->matplotlib) (1.14.0)\n",
      "Note: you may need to restart the kernel to use updated packages.\n"
     ]
    }
   ],
   "source": [
    "%pip install matplotlib\n",
    "# also do: sudo apt-get install ffmpeg"
   ]
  },
  {
   "cell_type": "markdown",
   "metadata": {},
   "source": [
    "## Initialize Packages"
   ]
  },
  {
   "cell_type": "code",
   "execution_count": 136,
   "metadata": {},
   "outputs": [],
   "source": [
    "import numpy as np\n",
    "import matplotlib\n",
    "import matplotlib.pyplot as plt\n",
    "import matplotlib.image as mpimg\n",
    "import matplotlib.animation as animation\n",
    "from IPython.display import HTML  # for embedded matplotlib animation\n",
    "from math import *\n",
    "from random import *\n",
    "import time\n",
    "\n",
    "matplotlib.rc('animation', html='html5')\n",
    "Writer = animation.writers['ffmpeg']\n",
    "writer = Writer(fps=15, metadata=dict(artist='Me'), bitrate=1800)"
   ]
  },
  {
   "cell_type": "markdown",
   "metadata": {},
   "source": [
    "## Cleaning .mp4 or .gif"
   ]
  },
  {
   "cell_type": "code",
   "execution_count": 137,
   "metadata": {},
   "outputs": [
    {
     "name": "stdout",
     "output_type": "stream",
     "text": [
      "Deleted: /home/izcy/Desktop/UGM/TPS/Fire-0_6-(8).gif\n",
      "Deleted: /home/izcy/Desktop/UGM/TPS/Fire-0_1-(2).gif\n",
      "Deleted: /home/izcy/Desktop/UGM/TPS/Fire-0_1-(4).gif\n",
      "Deleted: /home/izcy/Desktop/UGM/TPS/Fire-0_3-(6).gif\n",
      "Deleted: /home/izcy/Desktop/UGM/TPS/Fire-0_3-(5).gif\n",
      "Deleted: /home/izcy/Desktop/UGM/TPS/Fire-0_1-(7).gif\n",
      "Deleted: /home/izcy/Desktop/UGM/TPS/Fire-0_5-(5).gif\n",
      "Deleted: /home/izcy/Desktop/UGM/TPS/Fire-0_2-(5).gif\n",
      "Deleted: /home/izcy/Desktop/UGM/TPS/Fire-0_5$.gif\n",
      "Deleted: /home/izcy/Desktop/UGM/TPS/Fire-0_6-(7).gif\n",
      "Deleted: /home/izcy/Desktop/UGM/TPS/Fire-0_4-(2).gif\n",
      "Deleted: /home/izcy/Desktop/UGM/TPS/Fire-0_3-(8).gif\n",
      "Deleted: /home/izcy/Desktop/UGM/TPS/Fire-0_5-(2).gif\n",
      "Deleted: /home/izcy/Desktop/UGM/TPS/Fire-0_5-(7).gif\n",
      "Deleted: /home/izcy/Desktop/UGM/TPS/Fire-0_2-(9).gif\n",
      "Deleted: /home/izcy/Desktop/UGM/TPS/Fire-0_4-(6).gif\n",
      "Deleted: /home/izcy/Desktop/UGM/TPS/Fire-0_2-(6).gif\n",
      "Deleted: /home/izcy/Desktop/UGM/TPS/Fire-0_1-(1).gif\n",
      "Deleted: /home/izcy/Desktop/UGM/TPS/Fire-0_4-(8).gif\n",
      "Deleted: /home/izcy/Desktop/UGM/TPS/Fire-0_3-(1).gif\n",
      "Deleted: /home/izcy/Desktop/UGM/TPS/Fire-0_4-(1).gif\n",
      "Deleted: /home/izcy/Desktop/UGM/TPS/Fire-0_6-(2).gif\n",
      "Deleted: /home/izcy/Desktop/UGM/TPS/Fire-0_7-(2).gif\n",
      "Deleted: /home/izcy/Desktop/UGM/TPS/Fire-0_6-(3).gif\n",
      "Deleted: /home/izcy/Desktop/UGM/TPS/Fire-0_6-(4).gif\n",
      "Deleted: /home/izcy/Desktop/UGM/TPS/Fire-0_2-(2).gif\n",
      "Deleted: /home/izcy/Desktop/UGM/TPS/Fire-0_2-(7).gif\n",
      "Deleted: /home/izcy/Desktop/UGM/TPS/Fire-0_3-(3).gif\n",
      "Deleted: /home/izcy/Desktop/UGM/TPS/Fire-0_3-(9).gif\n",
      "Deleted: /home/izcy/Desktop/UGM/TPS/Fire-0_4$.gif\n",
      "Deleted: /home/izcy/Desktop/UGM/TPS/Fire-0_6-(9).gif\n",
      "Deleted: /home/izcy/Desktop/UGM/TPS/Fire-0_1-(5).gif\n",
      "Deleted: /home/izcy/Desktop/UGM/TPS/Fire-0_2-(8).gif\n",
      "Deleted: /home/izcy/Desktop/UGM/TPS/Fire-0_1-(3).gif\n",
      "Deleted: /home/izcy/Desktop/UGM/TPS/Fire-0_6-(1).gif\n",
      "Deleted: /home/izcy/Desktop/UGM/TPS/Fire-0_5-(8).gif\n",
      "Deleted: /home/izcy/Desktop/UGM/TPS/Fire-0_6-(6).gif\n",
      "Deleted: /home/izcy/Desktop/UGM/TPS/Fire-0_5-(4).gif\n",
      "Deleted: /home/izcy/Desktop/UGM/TPS/Fire-0_1-(6).gif\n",
      "Deleted: /home/izcy/Desktop/UGM/TPS/Fire-0_5-(1).gif\n",
      "Deleted: /home/izcy/Desktop/UGM/TPS/Fire-0_1$.gif\n",
      "Deleted: /home/izcy/Desktop/UGM/TPS/Fire-0_2$.gif\n",
      "Deleted: /home/izcy/Desktop/UGM/TPS/Fire-0_4-(7).gif\n",
      "Deleted: /home/izcy/Desktop/UGM/TPS/Fire-0_3-(2).gif\n",
      "Deleted: /home/izcy/Desktop/UGM/TPS/Fire-0_7-(1).gif\n",
      "Deleted: /home/izcy/Desktop/UGM/TPS/Fire-0_3$.gif\n",
      "Deleted: /home/izcy/Desktop/UGM/TPS/Fire-0_5-(6).gif\n",
      "Deleted: /home/izcy/Desktop/UGM/TPS/Fire-0_6-(5).gif\n",
      "Deleted: /home/izcy/Desktop/UGM/TPS/Fire-0_2-(3).gif\n",
      "Deleted: /home/izcy/Desktop/UGM/TPS/Fire-0_5-(3).gif\n",
      "Deleted: /home/izcy/Desktop/UGM/TPS/Fire-0_7$.gif\n",
      "Deleted: /home/izcy/Desktop/UGM/TPS/Fire-0_6$.gif\n",
      "Deleted: /home/izcy/Desktop/UGM/TPS/Fire-0_4-(3).gif\n",
      "Deleted: /home/izcy/Desktop/UGM/TPS/Fire-0_4-(5).gif\n",
      "Deleted: /home/izcy/Desktop/UGM/TPS/Fire-0_4-(4).gif\n",
      "Deleted: /home/izcy/Desktop/UGM/TPS/Fire-0_1-(8).gif\n",
      "Deleted: /home/izcy/Desktop/UGM/TPS/Fire-0_2-(1).gif\n",
      "Deleted: /home/izcy/Desktop/UGM/TPS/Fire-0_3-(7).gif\n",
      "Deleted: /home/izcy/Desktop/UGM/TPS/Fire-0_5-(9).gif\n",
      "Deleted: /home/izcy/Desktop/UGM/TPS/Fire-0_2-(4).gif\n",
      "Deleted: /home/izcy/Desktop/UGM/TPS/Fire-0_1-(9).gif\n",
      "Deleted: /home/izcy/Desktop/UGM/TPS/Fire-0_4-(9).gif\n",
      "Deleted: /home/izcy/Desktop/UGM/TPS/Fire-0_3-(4).gif\n"
     ]
    }
   ],
   "source": [
    "import os\n",
    "\n",
    "def delete_mp4_files(directory):\n",
    "    # Iterate over all files in the directory\n",
    "    for filename in os.listdir(directory):\n",
    "        # Check if the file ends with '.mp4'\n",
    "        if filename.endswith(\".mp4\") or filename.endswith(\".gif\"):\n",
    "            # Construct the full path to the file\n",
    "            file_path = os.path.join(directory, filename)\n",
    "            # Delete the file\n",
    "            os.remove(file_path)\n",
    "            print(f\"Deleted: {file_path}\")\n",
    "\n",
    "# Get the current directory\n",
    "current_directory = os.getcwd()\n",
    "\n",
    "# Call the function to delete .mp4 files in the current directory\n",
    "delete_mp4_files(current_directory)\n"
   ]
  },
  {
   "cell_type": "markdown",
   "metadata": {},
   "source": [
    "## Defining States"
   ]
  },
  {
   "cell_type": "code",
   "execution_count": 138,
   "metadata": {},
   "outputs": [],
   "source": [
    "## Define States\n",
    "global EMPTY, TREE, BURNING, BURNING_MAX\n",
    "EMPTY = 0\n",
    "TREE = 1\n",
    "BURNING = 2\n",
    "BURNING_MAX = 3"
   ]
  },
  {
   "cell_type": "markdown",
   "metadata": {},
   "source": [
    "## Colouring"
   ]
  },
  {
   "cell_type": "code",
   "execution_count": 139,
   "metadata": {},
   "outputs": [],
   "source": [
    "def makeColorGrid(grid):\n",
    "    n = grid.shape[0]\n",
    "    colorGrid = np.zeros((n, n, 3))\n",
    "    colorGrid[:, :, 0] = 1\n",
    "    colorGrid[:, :, 1] = 1\n",
    "    for i in range(0, n):\n",
    "        for j in range(0, n):\n",
    "            if (grid[i, j] == TREE):\n",
    "                colorGrid[i, j, 0] = 0.1\n",
    "                colorGrid[i, j, 1] = 0.75\n",
    "                colorGrid[i, j, 2] = 0.02\n",
    "            if (grid[i, j] >= BURNING and grid[i, j] <= BURNING_MAX):\n",
    "                colorGrid[i, j, 0] = 0.6\n",
    "                colorGrid[i, j, 1] = 0.2\n",
    "                colorGrid[i, j, 2] = 0.1\n",
    "    return colorGrid"
   ]
  },
  {
   "cell_type": "markdown",
   "metadata": {},
   "source": [
    "## Drawing"
   ]
  },
  {
   "cell_type": "code",
   "execution_count": 140,
   "metadata": {},
   "outputs": [],
   "source": [
    "def drawing(grids, fireProbability):\n",
    "    # Execute\n",
    "    fig = plt.figure()\n",
    "    plt.axis('off')\n",
    "    im = plt.imshow(makeColorGrid(grids[0,:,:]), animated=True)\n",
    "\n",
    "    # The animation function: called to produce a frame for each generation.\n",
    "    def updatefig(i, *args):\n",
    "        im.set_array(makeColorGrid(grids[i,:,:]))\n",
    "        return im\n",
    "\n",
    "    grid_ani = animation.FuncAnimation(\n",
    "        fig, updatefig, save_count = len(grids), interval=500, blit=False)\n",
    "    \n",
    "    # Show the last frame of the animation    \n",
    "    plt.imshow(makeColorGrid(grids[-1,:,:]))\n",
    "    plt.show()\n",
    "\n",
    "    # To save the animation, use the command, placed before HTML:\n",
    "    # Convert decimals like #.# into underscore like #_#\n",
    "    fireProbability = str(fireProbability).replace(\".\", \"_\")\n",
    "    # Extension\n",
    "    ext = \".gif\"\n",
    "    \n",
    "    # Create naming\n",
    "    name = f'Fire-{fireProbability}-(1){ext}'\n",
    "\n",
    "    # Check if the file already exists\n",
    "    if os.path.exists(name):\n",
    "        # If it exists, make a name with incrementing number\n",
    "        i = 1\n",
    "        while True:\n",
    "            name = f'Fire-{fireProbability}-({i}){ext}'\n",
    "            if not os.path.exists(name):\n",
    "                break\n",
    "            i += 1\n",
    "\n",
    "    grid_ani.save(name, writer=\"pillow\")\n",
    "\n",
    "    return grid_ani"
   ]
  },
  {
   "cell_type": "markdown",
   "metadata": {},
   "source": [
    "## Initialize the Forest"
   ]
  },
  {
   "cell_type": "code",
   "execution_count": 141,
   "metadata": {},
   "outputs": [],
   "source": [
    "def initForest(n):\n",
    "    forest = np.zeros((n, n))\n",
    "    for i in range(0, n):\n",
    "        for j in range(0, n):\n",
    "            forest[i, j] = TREE\n",
    "    return forest"
   ]
  },
  {
   "cell_type": "markdown",
   "metadata": {},
   "source": [
    "## Burn the Forest into Grids"
   ]
  },
  {
   "cell_type": "code",
   "execution_count": 142,
   "metadata": {},
   "outputs": [],
   "source": [
    "def burningForest(forest_span, t, fireProbability):\n",
    "    n = forest_span\n",
    "    init = initForest(n)\n",
    "\n",
    "    forest = np.zeros((t + 1, n, n))\n",
    "    forest[0, :, :] = init\n",
    "\n",
    "    # Burn the center\n",
    "    forest[0, n // 2, n // 2] = BURNING\n",
    "\n",
    "    # Count the trees\n",
    "    before_trees = np.sum(forest[0, :, :] == TREE)\n",
    "    # print(f\"Before trees: {before_trees}\")\n",
    "\n",
    "    for time in range(1, t + 1):\n",
    "        forest[time, :, :] = forest[time - 1, :, :].copy()\n",
    "        # Count the trees\n",
    "        # print(f\"Trees at time {time}: {np.sum(forest[time, :, :] == TREE)}\")\n",
    "        \n",
    "        for i in range(0, n):\n",
    "            for j in range(0, n):\n",
    "                if (forest[time - 1, i, j] >= BURNING and forest[time - 1, i, j] < BURNING_MAX):\n",
    "                    forest[time, i, j] = forest[time - 1, i, j] + 1\n",
    "                if (forest[time, i, j] == TREE):\n",
    "                    # Define North, South, West, East\n",
    "                    north = forest[time - 1, i - 1, j] if i > 0 else EMPTY\n",
    "                    south = forest[time - 1, i + 1, j] if i < n - 1 else EMPTY\n",
    "                    west = forest[time - 1, i, j - 1] if j > 0 else EMPTY\n",
    "                    east = forest[time - 1, i, j + 1] if j < n - 1 else EMPTY\n",
    "\n",
    "                    # Burn with probability if there is a burning tree\n",
    "                    if (north == BURNING or south == BURNING or west == BURNING or east == BURNING):\n",
    "                        if (random() < fireProbability):\n",
    "                            forest[time, i, j] = BURNING\n",
    "                if (forest[time - 1, i, j] >= BURNING_MAX):\n",
    "                    forest[time, i, j] = EMPTY\n",
    "    \n",
    "    # Draw\n",
    "    grid_ani = drawing(grids=forest, fireProbability=fireProbability)\n",
    "\n",
    "    # Count the remaining trees\n",
    "    after_trees = np.sum(forest[t, :, :] == TREE)\n",
    "    # print(f\"After trees: {after_trees}\")\n",
    "\n",
    "    # Count the percentage of trees burned\n",
    "    burned_percentage = (before_trees - after_trees) / before_trees * 100\n",
    "    # Percentage max 2 decimals\n",
    "    burned_percentage = round(burned_percentage, 2)\n",
    "    return burned_percentage, grid_ani"
   ]
  },
  {
   "cell_type": "markdown",
   "metadata": {},
   "source": [
    "## Repeating Burning"
   ]
  },
  {
   "cell_type": "code",
   "execution_count": 143,
   "metadata": {},
   "outputs": [],
   "source": [
    "def RepeatBurn(forest_span, t, fireProbability, repeat):\n",
    "    burned_percentages = []\n",
    "    for _ in range(repeat):\n",
    "        burned_percentage, _ = burningForest(forest_span, t, fireProbability)\n",
    "        burned_percentages.append(burned_percentage)\n",
    "    return burned_percentages"
   ]
  },
  {
   "cell_type": "markdown",
   "metadata": {},
   "source": [
    "## Initialize Size and Time"
   ]
  },
  {
   "cell_type": "code",
   "execution_count": 144,
   "metadata": {},
   "outputs": [],
   "source": [
    "# Initialize the Forest\n",
    "n = 17\n",
    "t = 8\n",
    "x = 10\n",
    "mode = \"Avg\" # Avg or ViewOne\n"
   ]
  },
  {
   "cell_type": "markdown",
   "metadata": {},
   "source": [
    "## Template"
   ]
  },
  {
   "cell_type": "code",
   "execution_count": 145,
   "metadata": {},
   "outputs": [],
   "source": [
    "def template(fireProbability, mode=\"ViewOne\"):\n",
    "    if mode == \"ViewOne\":\n",
    "        (ptg, grid_ani) = burningForest(forest_span=n, t=t, fireProbability=fireProbability)\n",
    "        print(f\"Fire Probability: {fireProbability}\")\n",
    "        print(f\"Percentage: {ptg}\")\n",
    "        return grid_ani\n",
    "\n",
    "    elif mode == \"Avg\":\n",
    "        arr = RepeatBurn(forest_span=n, t=t, fireProbability=fireProbability, repeat=x)\n",
    "        print(f\"Fire Probability: {fireProbability}\")\n",
    "        print(f\"Average: {np.mean(arr)}\")\n",
    "        return None"
   ]
  },
  {
   "cell_type": "markdown",
   "metadata": {},
   "source": [
    "## Calculate Each Probabilty"
   ]
  },
  {
   "cell_type": "code",
   "execution_count": 146,
   "metadata": {},
   "outputs": [
    {
     "data": {
      "image/png": "[encoded data removed]",
      "text/plain": [
       "<Figure size 640x480 with 1 Axes>"
      ]
     },
     "metadata": {},
     "output_type": "display_data"
    },
    {
     "data": {
      "image/png": "[encoded data removed]",
      "text/plain": [
       "<Figure size 640x480 with 1 Axes>"
      ]
     },
     "metadata": {},
     "output_type": "display_data"
    },
    {
     "data": {
      "image/png": "[encoded data removed]",
      "text/plain": [
       "<Figure size 640x480 with 1 Axes>"
      ]
     },
     "metadata": {},
     "output_type": "display_data"
    },
    {
     "data": {
      "image/png": "[encoded data removed]",
      "text/plain": [
       "<Figure size 640x480 with 1 Axes>"
      ]
     },
     "metadata": {},
     "output_type": "display_data"
    },
    {
     "data": {
      "image/png": "[encoded data removed]",
      "text/plain": [
       "<Figure size 640x480 with 1 Axes>"
      ]
     },
     "metadata": {},
     "output_type": "display_data"
    },
    {
     "data": {
      "image/png": "[encoded data removed]",
      "text/plain": [
       "<Figure size 640x480 with 1 Axes>"
      ]
     },
     "metadata": {},
     "output_type": "display_data"
    },
    {
     "data": {
      "image/png": "[encoded data removed]",
      "text/plain": [
       "<Figure size 640x480 with 1 Axes>"
      ]
     },
     "metadata": {},
     "output_type": "display_data"
    },
    {
     "data": {
      "image/png": "[encoded data removed]",
      "text/plain": [
       "<Figure size 640x480 with 1 Axes>"
      ]
     },
     "metadata": {},
     "output_type": "display_data"
    },
    {
     "data": {
      "image/png": "[encoded data removed]",
      "text/plain": [
       "<Figure size 640x480 with 1 Axes>"
      ]
     },
     "metadata": {},
     "output_type": "display_data"
    },
    {
     "data": {
      "image/png": "[encoded data removed]",
      "text/plain": [
       "<Figure size 640x480 with 1 Axes>"
      ]
     },
     "metadata": {},
     "output_type": "display_data"
    },
    {
     "name": "stdout",
     "output_type": "stream",
     "text": [
      "Fire Probability: 0.1\n",
      "Average: 0.24300000000000002\n",
      "\n",
      "\n",
      "\n",
      "\n"
     ]
    },
    {
     "data": {
      "image/png": "[encoded data removed]",
      "text/plain": [
       "<Figure size 640x480 with 1 Axes>"
      ]
     },
     "metadata": {},
     "output_type": "display_data"
    },
    {
     "data": {
      "image/png": "[encoded data removed]",
      "text/plain": [
       "<Figure size 640x480 with 1 Axes>"
      ]
     },
     "metadata": {},
     "output_type": "display_data"
    },
    {
     "data": {
      "image/png": "[encoded data removed]",
      "text/plain": [
       "<Figure size 640x480 with 1 Axes>"
      ]
     },
     "metadata": {},
     "output_type": "display_data"
    },
    {
     "data": {
      "image/png": "[encoded data removed]",
      "text/plain": [
       "<Figure size 640x480 with 1 Axes>"
      ]
     },
     "metadata": {},
     "output_type": "display_data"
    },
    {
     "data": {
      "image/png": "[encoded data removed]",
      "text/plain": [
       "<Figure size 640x480 with 1 Axes>"
      ]
     },
     "metadata": {},
     "output_type": "display_data"
    },
    {
     "data": {
      "image/png": "[encoded data removed]",
      "text/plain": [
       "<Figure size 640x480 with 1 Axes>"
      ]
     },
     "metadata": {},
     "output_type": "display_data"
    },
    {
     "data": {
      "image/png": "[encoded data removed]",
      "text/plain": [
       "<Figure size 640x480 with 1 Axes>"
      ]
     },
     "metadata": {},
     "output_type": "display_data"
    },
    {
     "data": {
      "image/png": "[encoded data removed]",
      "text/plain": [
       "<Figure size 640x480 with 1 Axes>"
      ]
     },
     "metadata": {},
     "output_type": "display_data"
    },
    {
     "data": {
      "image/png": "[encoded data removed]",
      "text/plain": [
       "<Figure size 640x480 with 1 Axes>"
      ]
     },
     "metadata": {},
     "output_type": "display_data"
    },
    {
     "data": {
      "image/png": "[encoded data removed]",
      "text/plain": [
       "<Figure size 640x480 with 1 Axes>"
      ]
     },
     "metadata": {},
     "output_type": "display_data"
    },
    {
     "name": "stdout",
     "output_type": "stream",
     "text": [
      "Fire Probability: 0.2\n",
      "Average: 0.41600000000000004\n",
      "\n",
      "\n",
      "\n",
      "\n"
     ]
    },
    {
     "data": {
      "image/png": "[encoded data removed]",
      "text/plain": [
       "<Figure size 640x480 with 1 Axes>"
      ]
     },
     "metadata": {},
     "output_type": "display_data"
    },
    {
     "data": {
      "image/png": "[encoded data removed]",
      "text/plain": [
       "<Figure size 640x480 with 1 Axes>"
      ]
     },
     "metadata": {},
     "output_type": "display_data"
    },
    {
     "data": {
      "image/png": "[encoded data removed]",
      "text/plain": [
       "<Figure size 640x480 with 1 Axes>"
      ]
     },
     "metadata": {},
     "output_type": "display_data"
    },
    {
     "data": {
      "image/png": "[encoded data removed]",
      "text/plain": [
       "<Figure size 640x480 with 1 Axes>"
      ]
     },
     "metadata": {},
     "output_type": "display_data"
    },
    {
     "data": {
      "image/png": "[encoded data removed]",
      "text/plain": [
       "<Figure size 640x480 with 1 Axes>"
      ]
     },
     "metadata": {},
     "output_type": "display_data"
    },
    {
     "data": {
      "image/png": "[encoded data removed]",
      "text/plain": [
       "<Figure size 640x480 with 1 Axes>"
      ]
     },
     "metadata": {},
     "output_type": "display_data"
    },
    {
     "data": {
      "image/png": "[encoded data removed]",
      "text/plain": [
       "<Figure size 640x480 with 1 Axes>"
      ]
     },
     "metadata": {},
     "output_type": "display_data"
    },
    {
     "data": {
      "image/png": "[encoded data removed]",
      "text/plain": [
       "<Figure size 640x480 with 1 Axes>"
      ]
     },
     "metadata": {},
     "output_type": "display_data"
    },
    {
     "data": {
      "image/png": "[encoded data removed]",
      "text/plain": [
       "<Figure size 640x480 with 1 Axes>"
      ]
     },
     "metadata": {},
     "output_type": "display_data"
    },
    {
     "data": {
      "image/png": "[encoded data removed]",
      "text/plain": [
       "<Figure size 640x480 with 1 Axes>"
      ]
     },
     "metadata": {},
     "output_type": "display_data"
    },
    {
     "name": "stdout",
     "output_type": "stream",
     "text": [
      "Fire Probability: 0.3\n",
      "Average: 1.387\n",
      "\n",
      "\n",
      "\n",
      "\n"
     ]
    },
    {
     "data": {
      "image/png": "[encoded data removed]",
      "text/plain": [
       "<Figure size 640x480 with 1 Axes>"
      ]
     },
     "metadata": {},
     "output_type": "display_data"
    },
    {
     "data": {
      "image/png": "[encoded data removed]",
      "text/plain": [
       "<Figure size 640x480 with 1 Axes>"
      ]
     },
     "metadata": {},
     "output_type": "display_data"
    },
    {
     "data": {
      "image/png": "[encoded data removed]",
      "text/plain": [
       "<Figure size 640x480 with 1 Axes>"
      ]
     },
     "metadata": {},
     "output_type": "display_data"
    },
    {
     "data": {
      "image/png": "[encoded data removed]",
      "text/plain": [
       "<Figure size 640x480 with 1 Axes>"
      ]
     },
     "metadata": {},
     "output_type": "display_data"
    },
    {
     "data": {
      "image/png": "[encoded data removed]",
      "text/plain": [
       "<Figure size 640x480 with 1 Axes>"
      ]
     },
     "metadata": {},
     "output_type": "display_data"
    },
    {
     "data": {
      "image/png": "[encoded data removed]",
      "text/plain": [
       "<Figure size 640x480 with 1 Axes>"
      ]
     },
     "metadata": {},
     "output_type": "display_data"
    },
    {
     "data": {
      "image/png": "[encoded data removed]",
      "text/plain": [
       "<Figure size 640x480 with 1 Axes>"
      ]
     },
     "metadata": {},
     "output_type": "display_data"
    },
    {
     "data": {
      "image/png": "[encoded data removed]",
      "text/plain": [
       "<Figure size 640x480 with 1 Axes>"
      ]
     },
     "metadata": {},
     "output_type": "display_data"
    },
    {
     "data": {
      "image/png": "[encoded data removed]",
      "text/plain": [
       "<Figure size 640x480 with 1 Axes>"
      ]
     },
     "metadata": {},
     "output_type": "display_data"
    },
    {
     "data": {
      "image/png": "[encoded data removed]",
      "text/plain": [
       "<Figure size 640x480 with 1 Axes>"
      ]
     },
     "metadata": {},
     "output_type": "display_data"
    },
    {
     "name": "stdout",
     "output_type": "stream",
     "text": [
      "Fire Probability: 0.4\n",
      "Average: 4.062\n",
      "\n",
      "\n",
      "\n",
      "\n"
     ]
    },
    {
     "data": {
      "image/png": "[encoded data removed]",
      "text/plain": [
       "<Figure size 640x480 with 1 Axes>"
      ]
     },
     "metadata": {},
     "output_type": "display_data"
    },
    {
     "data": {
      "image/png": "[encoded data removed]",
      "text/plain": [
       "<Figure size 640x480 with 1 Axes>"
      ]
     },
     "metadata": {},
     "output_type": "display_data"
    },
    {
     "data": {
      "image/png": "[encoded data removed]",
      "text/plain": [
       "<Figure size 640x480 with 1 Axes>"
      ]
     },
     "metadata": {},
     "output_type": "display_data"
    },
    {
     "data": {
      "image/png": "[encoded data removed]",
      "text/plain": [
       "<Figure size 640x480 with 1 Axes>"
      ]
     },
     "metadata": {},
     "output_type": "display_data"
    },
    {
     "data": {
      "image/png": "[encoded data removed]",
      "text/plain": [
       "<Figure size 640x480 with 1 Axes>"
      ]
     },
     "metadata": {},
     "output_type": "display_data"
    },
    {
     "data": {
      "image/png": "[encoded data removed]",
      "text/plain": [
       "<Figure size 640x480 with 1 Axes>"
      ]
     },
     "metadata": {},
     "output_type": "display_data"
    },
    {
     "data": {
      "image/png": "[encoded data removed]",
      "text/plain": [
       "<Figure size 640x480 with 1 Axes>"
      ]
     },
     "metadata": {},
     "output_type": "display_data"
    },
    {
     "data": {
      "image/png": "[encoded data removed]",
      "text/plain": [
       "<Figure size 640x480 with 1 Axes>"
      ]
     },
     "metadata": {},
     "output_type": "display_data"
    },
    {
     "data": {
      "image/png": "[encoded data removed]",
      "text/plain": [
       "<Figure size 640x480 with 1 Axes>"
      ]
     },
     "metadata": {},
     "output_type": "display_data"
    },
    {
     "data": {
      "image/png": "[encoded data removed]",
      "text/plain": [
       "<Figure size 640x480 with 1 Axes>"
      ]
     },
     "metadata": {},
     "output_type": "display_data"
    },
    {
     "name": "stdout",
     "output_type": "stream",
     "text": [
      "Fire Probability: 0.5\n",
      "Average: 6.909999999999999\n",
      "\n",
      "\n",
      "\n",
      "\n"
     ]
    },
    {
     "data": {
      "image/png": "[encoded data removed]",
      "text/plain": [
       "<Figure size 640x480 with 1 Axes>"
      ]
     },
     "metadata": {},
     "output_type": "display_data"
    },
    {
     "data": {
      "image/png": "[encoded data removed]",
      "text/plain": [
       "<Figure size 640x480 with 1 Axes>"
      ]
     },
     "metadata": {},
     "output_type": "display_data"
    },
    {
     "data": {
      "image/png": "[encoded data removed]",
      "text/plain": [
       "<Figure size 640x480 with 1 Axes>"
      ]
     },
     "metadata": {},
     "output_type": "display_data"
    },
    {
     "data": {
      "image/png": "[encoded data removed]",
      "text/plain": [
       "<Figure size 640x480 with 1 Axes>"
      ]
     },
     "metadata": {},
     "output_type": "display_data"
    },
    {
     "data": {
      "image/png": "[encoded data removed]",
      "text/plain": [
       "<Figure size 640x480 with 1 Axes>"
      ]
     },
     "metadata": {},
     "output_type": "display_data"
    },
    {
     "data": {
      "image/png": "[encoded data removed]",
      "text/plain": [
       "<Figure size 640x480 with 1 Axes>"
      ]
     },
     "metadata": {},
     "output_type": "display_data"
    },
    {
     "data": {
      "image/png": "[encoded data removed]",
      "text/plain": [
       "<Figure size 640x480 with 1 Axes>"
      ]
     },
     "metadata": {},
     "output_type": "display_data"
    },
    {
     "data": {
      "image/png": "[encoded data removed]",
      "text/plain": [
       "<Figure size 640x480 with 1 Axes>"
      ]
     },
     "metadata": {},
     "output_type": "display_data"
    },
    {
     "data": {
      "image/png": "[encoded data removed]",
      "text/plain": [
       "<Figure size 640x480 with 1 Axes>"
      ]
     },
     "metadata": {},
     "output_type": "display_data"
    },
    {
     "data": {
      "image/png": "[encoded data removed]",
      "text/plain": [
       "<Figure size 640x480 with 1 Axes>"
      ]
     },
     "metadata": {},
     "output_type": "display_data"
    },
    {
     "name": "stdout",
     "output_type": "stream",
     "text": [
      "Fire Probability: 0.6\n",
      "Average: 20.002000000000002\n",
      "\n",
      "\n",
      "\n",
      "\n"
     ]
    },
    {
     "data": {
      "image/png": "[encoded data removed]",
      "text/plain": [
       "<Figure size 640x480 with 1 Axes>"
      ]
     },
     "metadata": {},
     "output_type": "display_data"
    },
    {
     "data": {
      "image/png": "[encoded data removed]",
      "text/plain": [
       "<Figure size 640x480 with 1 Axes>"
      ]
     },
     "metadata": {},
     "output_type": "display_data"
    },
    {
     "data": {
      "image/png": "[encoded data removed]",
      "text/plain": [
       "<Figure size 640x480 with 1 Axes>"
      ]
     },
     "metadata": {},
     "output_type": "display_data"
    },
    {
     "data": {
      "image/png": "[encoded data removed]",
      "text/plain": [
       "<Figure size 640x480 with 1 Axes>"
      ]
     },
     "metadata": {},
     "output_type": "display_data"
    },
    {
     "data": {
      "image/png": "[encoded data removed]",
      "text/plain": [
       "<Figure size 640x480 with 1 Axes>"
      ]
     },
     "metadata": {},
     "output_type": "display_data"
    },
    {
     "data": {
      "image/png": "[encoded data removed]",
      "text/plain": [
       "<Figure size 640x480 with 1 Axes>"
      ]
     },
     "metadata": {},
     "output_type": "display_data"
    },
    {
     "data": {
      "image/png": "[encoded data removed]",
      "text/plain": [
       "<Figure size 640x480 with 1 Axes>"
      ]
     },
     "metadata": {},
     "output_type": "display_data"
    },
    {
     "data": {
      "image/png": "[encoded data removed]",
      "text/plain": [
       "<Figure size 640x480 with 1 Axes>"
      ]
     },
     "metadata": {},
     "output_type": "display_data"
    },
    {
     "data": {
      "image/png": "[encoded data removed]",
      "text/plain": [
       "<Figure size 640x480 with 1 Axes>"
      ]
     },
     "metadata": {},
     "output_type": "display_data"
    },
    {
     "data": {
      "image/png": "[encoded data removed]",
      "text/plain": [
       "<Figure size 640x480 with 1 Axes>"
      ]
     },
     "metadata": {},
     "output_type": "display_data"
    },
    {
     "name": "stdout",
     "output_type": "stream",
     "text": [
      "Fire Probability: 0.7\n",
      "Average: 24.618000000000002\n",
      "\n",
      "\n",
      "\n",
      "\n"
     ]
    },
    {
     "data": {
      "image/png": "[encoded data removed]",
      "text/plain": [
       "<Figure size 640x480 with 1 Axes>"
      ]
     },
     "metadata": {},
     "output_type": "display_data"
    },
    {
     "data": {
      "image/png": "[encoded data removed]",
      "text/plain": [
       "<Figure size 640x480 with 1 Axes>"
      ]
     },
     "metadata": {},
     "output_type": "display_data"
    },
    {
     "data": {
      "image/png": "[encoded data removed]",
      "text/plain": [
       "<Figure size 640x480 with 1 Axes>"
      ]
     },
     "metadata": {},
     "output_type": "display_data"
    },
    {
     "data": {
      "image/png": "[encoded data removed]",
      "text/plain": [
       "<Figure size 640x480 with 1 Axes>"
      ]
     },
     "metadata": {},
     "output_type": "display_data"
    },
    {
     "data": {
      "image/png": "[encoded data removed]",
      "text/plain": [
       "<Figure size 640x480 with 1 Axes>"
      ]
     },
     "metadata": {},
     "output_type": "display_data"
    },
    {
     "data": {
      "image/png": "[encoded data removed]",
      "text/plain": [
       "<Figure size 640x480 with 1 Axes>"
      ]
     },
     "metadata": {},
     "output_type": "display_data"
    },
    {
     "data": {
      "image/png": "[encoded data removed]",
      "text/plain": [
       "<Figure size 640x480 with 1 Axes>"
      ]
     },
     "metadata": {},
     "output_type": "display_data"
    },
    {
     "data": {
      "image/png": "[encoded data removed]",
      "text/plain": [
       "<Figure size 640x480 with 1 Axes>"
      ]
     },
     "metadata": {},
     "output_type": "display_data"
    },
    {
     "data": {
      "image/png": "[encoded data removed]",
      "text/plain": [
       "<Figure size 640x480 with 1 Axes>"
      ]
     },
     "metadata": {},
     "output_type": "display_data"
    },
    {
     "data": {
      "image/png": "[encoded data removed]",
      "text/plain": [
       "<Figure size 640x480 with 1 Axes>"
      ]
     },
     "metadata": {},
     "output_type": "display_data"
    },
    {
     "name": "stdout",
     "output_type": "stream",
     "text": [
      "Fire Probability: 0.8\n",
      "Average: 38.542\n",
      "\n",
      "\n",
      "\n",
      "\n"
     ]
    },
    {
     "data": {
      "image/png": "[encoded data removed]",
      "text/plain": [
       "<Figure size 640x480 with 1 Axes>"
      ]
     },
     "metadata": {},
     "output_type": "display_data"
    },
    {
     "data": {
      "image/png": "[encoded data removed]",
      "text/plain": [
       "<Figure size 640x480 with 1 Axes>"
      ]
     },
     "metadata": {},
     "output_type": "display_data"
    },
    {
     "data": {
      "image/png": "[encoded data removed]",
      "text/plain": [
       "<Figure size 640x480 with 1 Axes>"
      ]
     },
     "metadata": {},
     "output_type": "display_data"
    },
    {
     "data": {
      "image/png": "[encoded data removed]",
      "text/plain": [
       "<Figure size 640x480 with 1 Axes>"
      ]
     },
     "metadata": {},
     "output_type": "display_data"
    },
    {
     "data": {
      "image/png": "[encoded data removed]",
      "text/plain": [
       "<Figure size 640x480 with 1 Axes>"
      ]
     },
     "metadata": {},
     "output_type": "display_data"
    },
    {
     "data": {
      "image/png": "[encoded data removed]",
      "text/plain": [
       "<Figure size 640x480 with 1 Axes>"
      ]
     },
     "metadata": {},
     "output_type": "display_data"
    },
    {
     "data": {
      "image/png": "[encoded data removed]",
      "text/plain": [
       "<Figure size 640x480 with 1 Axes>"
      ]
     },
     "metadata": {},
     "output_type": "display_data"
    },
    {
     "data": {
      "image/png": "[encoded data removed]",
      "text/plain": [
       "<Figure size 640x480 with 1 Axes>"
      ]
     },
     "metadata": {},
     "output_type": "display_data"
    },
    {
     "data": {
      "image/png": "[encoded data removed]",
      "text/plain": [
       "<Figure size 640x480 with 1 Axes>"
      ]
     },
     "metadata": {},
     "output_type": "display_data"
    },
    {
     "data": {
      "image/png": "[encoded data removed]",
      "text/plain": [
       "<Figure size 640x480 with 1 Axes>"
      ]
     },
     "metadata": {},
     "output_type": "display_data"
    },
    {
     "name": "stdout",
     "output_type": "stream",
     "text": [
      "Fire Probability: 0.9\n",
      "Average: 44.202\n",
      "\n",
      "\n",
      "\n",
      "\n"
     ]
    }
   ],
   "source": [
    "# Run the Simulation\n",
    "delete_mp4_files(os.getcwd())\n",
    "\n",
    "for i in range(1, 10):\n",
    "    fireProbability = i / 10\n",
    "    template(fireProbability=fireProbability, mode=mode)\n",
    "    # HTML(grid_ani.to_html5_video()) if mode == \"ViewOne\" else None\n",
    "    # Give space\n",
    "    print(\"\\n\\n\\n\")"
   ]
  },
  {
   "cell_type": "code",
   "execution_count": 147,
   "metadata": {},
   "outputs": [],
   "source": [
    "# # Run the Simulation\n",
    "# (ptg, grid_ani) = burningForest(forest_span=n, t=t, fireProbability=0.2)\n",
    "# print(f\"Percentage: {ptg}\")\n",
    "# HTML(grid_ani.to_html5_video())"
   ]
  },
  {
   "cell_type": "code",
   "execution_count": 148,
   "metadata": {},
   "outputs": [],
   "source": [
    "# # Run the Simulation\n",
    "# (ptg, grid_ani) = burningForest(forest_span=n, t=t, fireProbability=0.3)\n",
    "# print(f\"Percentage: {ptg}\")\n",
    "# HTML(grid_ani.to_html5_video())"
   ]
  },
  {
   "cell_type": "code",
   "execution_count": 149,
   "metadata": {},
   "outputs": [],
   "source": [
    "# # Run the Simulation\n",
    "# (ptg, grid_ani) = burningForest(forest_span=n, t=t, fireProbability=0.4)\n",
    "# print(f\"Percentage: {ptg}\")\n",
    "# HTML(grid_ani.to_html5_video())"
   ]
  },
  {
   "cell_type": "code",
   "execution_count": 150,
   "metadata": {},
   "outputs": [],
   "source": [
    "# # Run the Simulation\n",
    "# (ptg, grid_ani) = burningForest(forest_span=n, t=t, fireProbability=0.5)\n",
    "# print(f\"Percentage: {ptg}\")\n",
    "# HTML(grid_ani.to_html5_video())"
   ]
  },
  {
   "cell_type": "code",
   "execution_count": 151,
   "metadata": {},
   "outputs": [],
   "source": [
    "# # Run the Simulation\n",
    "# (ptg, grid_ani) = burningForest(forest_span=n, t=t, fireProbability=0.6)\n",
    "# print(f\"Percentage: {ptg}\")\n",
    "# HTML(grid_ani.to_html5_video())"
   ]
  },
  {
   "cell_type": "code",
   "execution_count": 152,
   "metadata": {},
   "outputs": [],
   "source": [
    "# # Run the Simulation\n",
    "# (ptg, grid_ani) = burningForest(forest_span=n, t=t, fireProbability=0.7)\n",
    "# print(f\"Percentage: {ptg}\")\n",
    "# HTML(grid_ani.to_html5_video())"
   ]
  },
  {
   "cell_type": "code",
   "execution_count": 153,
   "metadata": {},
   "outputs": [],
   "source": [
    "# # Run the Simulation\n",
    "# (ptg, grid_ani) = burningForest(forest_span=n, t=t, fireProbability=0.8)\n",
    "# print(f\"Percentage: {ptg}\")\n",
    "# HTML(grid_ani.to_html5_video())"
   ]
  },
  {
   "cell_type": "code",
   "execution_count": 154,
   "metadata": {},
   "outputs": [],
   "source": [
    "# # Run the Simulation\n",
    "# (ptg, grid_ani) = burningForest(forest_span=n, t=t, fireProbability=0.9)\n",
    "# print(f\"Percentage: {ptg}\")\n",
    "# HTML(grid_ani.to_html5_video())"
   ]
  }
 ],
 "metadata": {
  "kernelspec": {
   "display_name": "Python 3",
   "language": "python",
   "name": "python3"
  },
  "language_info": {
   "codemirror_mode": {
    "name": "ipython",
    "version": 3
   },
   "file_extension": ".py",
   "mimetype": "text/x-python",
   "name": "python",
   "nbconvert_exporter": "python",
   "pygments_lexer": "ipython3",
   "version": "3.8.10"
  }
 },
 "nbformat": 4,
 "nbformat_minor": 2
}
